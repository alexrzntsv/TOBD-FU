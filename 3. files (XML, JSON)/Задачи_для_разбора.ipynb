{
  "nbformat": 4,
  "nbformat_minor": 0,
  "metadata": {
    "colab": {
      "provenance": [],
      "include_colab_link": true
    },
    "kernelspec": {
      "name": "python3",
      "display_name": "Python 3"
    },
    "language_info": {
      "name": "python"
    }
  },
  "cells": [
    {
      "cell_type": "markdown",
      "metadata": {
        "id": "view-in-github",
        "colab_type": "text"
      },
      "source": [
        "<a href=\"https://colab.research.google.com/github/alexrzntsv/TOBD-FU/blob/main/3.%20files%20(XML%2C%20JSON)/%D0%97%D0%B0%D0%B4%D0%B0%D1%87%D0%B8_%D0%B4%D0%BB%D1%8F_%D1%80%D0%B0%D0%B7%D0%B1%D0%BE%D1%80%D0%B0.ipynb\" target=\"_parent\"><img src=\"https://colab.research.google.com/assets/colab-badge.svg\" alt=\"Open In Colab\"/></a>"
      ]
    },
    {
      "cell_type": "markdown",
      "source": [
        "# Задачи для совместного разбора"
      ],
      "metadata": {
        "id": "sqIOJZ1Exdr-"
      }
    },
    {
      "cell_type": "code",
      "source": [
        "from google.colab import drive\n",
        "drive.mount('/content/drive')"
      ],
      "metadata": {
        "colab": {
          "base_uri": "https://localhost:8080/"
        },
        "id": "Va0kwOXWIW2m",
        "outputId": "0ab2211e-85e1-4f92-cc42-7e1234015a13"
      },
      "execution_count": 1,
      "outputs": [
        {
          "output_type": "stream",
          "name": "stdout",
          "text": [
            "Mounted at /content/drive\n"
          ]
        }
      ]
    },
    {
      "cell_type": "markdown",
      "metadata": {
        "id": "5lQ3OA2RxWsG"
      },
      "source": [
        "1. Вывести все адреса электронной почты, содержащиеся в адресной книге `addres-book.json`"
      ]
    },
    {
      "cell_type": "code",
      "source": [
        "import json \n",
        "import requests"
      ],
      "metadata": {
        "id": "8iI0tvNPJCwp"
      },
      "execution_count": 3,
      "outputs": []
    },
    {
      "cell_type": "code",
      "source": [
        "with open('/addres-book.json', 'r', encoding='utf-8') as f:\n",
        "  f = json.load(f)\n",
        "  for line in f:\n",
        "    print(line['email'])"
      ],
      "metadata": {
        "colab": {
          "base_uri": "https://localhost:8080/"
        },
        "id": "2QOxYktCJXT2",
        "outputId": "3e63a296-6101-453b-d583-4272aea9bf21"
      },
      "execution_count": 10,
      "outputs": [
        {
          "output_type": "stream",
          "name": "stdout",
          "text": [
            "faina@mail.ru\n",
            "robert@mail.ru\n",
            "faina@mail.ru\n",
            "robert@mail.ru\n"
          ]
        }
      ]
    },
    {
      "cell_type": "markdown",
      "metadata": {
        "id": "L3zfD9brxWsH"
      },
      "source": [
        "2. Вывести телефоны, содержащиеся в адресной книге `addres-book.json`"
      ]
    },
    {
      "cell_type": "code",
      "source": [
        "with open('/addres-book.json', 'r', encoding='utf-8') as f:\n",
        "  f = json.load(f)\n",
        "  for line in f:\n",
        "    for phone in line['phones']:\n",
        "        print(phone['phone'])"
      ],
      "metadata": {
        "colab": {
          "base_uri": "https://localhost:8080/"
        },
        "id": "ep4Zmr2MKLYN",
        "outputId": "ad07ffb7-5923-40ad-a15e-1c511c87f23f"
      },
      "execution_count": 18,
      "outputs": [
        {
          "output_type": "stream",
          "name": "stdout",
          "text": [
            "232-19-55\n",
            "+7 (916) 232-19-55\n",
            "111-19-55\n",
            "+7 (916) 445-19-55\n",
            "232-19-55\n",
            "+7 (916) 232-19-55\n",
            "111-19-55\n",
            "+7 (916) 445-19-55\n"
          ]
        }
      ]
    },
    {
      "cell_type": "markdown",
      "source": [
        "4. Вывести все адреса электронной почты, содержащиеся в адресной книге addres-book-q.xml"
      ],
      "metadata": {
        "id": "Cek395WDFPWN"
      }
    },
    {
      "cell_type": "code",
      "source": [
        "from bs4 import BeautifulSoup"
      ],
      "metadata": {
        "id": "RGM43igZKsAN"
      },
      "execution_count": 19,
      "outputs": []
    },
    {
      "cell_type": "code",
      "source": [
        "with open('/addres-book-q.xml') as f:\n",
        "  ab = BeautifulSoup(f, 'xml')\n",
        "  for i in ab.address_book.find_all('email'):\n",
        "    print(i.next)"
      ],
      "metadata": {
        "colab": {
          "base_uri": "https://localhost:8080/"
        },
        "id": "4IOvqdMDLIQF",
        "outputId": "228b75d8-f748-43b8-a58f-a0efb683fd09"
      },
      "execution_count": 35,
      "outputs": [
        {
          "output_type": "stream",
          "name": "stdout",
          "text": [
            "aiqraa.asso@caramail.com\n",
            "frandomingos@hotmail.com\n",
            "luisagrilo@ebonet.net\n",
            "ineda@snet.co.ao\n",
            "busaniche@caminandoutopias.org.ar\n",
            "f.beddie@ala.asn.au\n",
            "grasm@connexus.net.au\n"
          ]
        }
      ]
    },
    {
      "cell_type": "markdown",
      "source": [
        "3. По данным из файла addres-book.json сформировать список словарей с телефонами каждого из людей."
      ],
      "metadata": {
        "id": "CHmFRIhrBqKx"
      }
    },
    {
      "cell_type": "code",
      "source": [
        "with open('/addres-book.json', 'r', encoding='utf-8') as f:\n",
        "  f = json.load(f)\n",
        "  result = []\n",
        "  for line in f:\n",
        "    result.append({line['name']: []})\n",
        "    for phone in line['phones']:\n",
        "      result[-1][line['name']].append(phone['phone'])\n",
        "result"
      ],
      "metadata": {
        "colab": {
          "base_uri": "https://localhost:8080/"
        },
        "id": "A8ZeTAZpLZz4",
        "outputId": "21901451-b879-44af-d2dc-1ee4a97b9792"
      },
      "execution_count": 47,
      "outputs": [
        {
          "output_type": "execute_result",
          "data": {
            "text/plain": [
              "[{'Faina Lee': ['232-19-55', '+7 (916) 232-19-55']},\n",
              " {'Robert Lee': ['111-19-55', '+7 (916) 445-19-55']},\n",
              " {'Faina Lee': ['232-19-55', '+7 (916) 232-19-55']},\n",
              " {'Robert Lee': ['111-19-55', '+7 (916) 445-19-55']}]"
            ]
          },
          "metadata": {},
          "execution_count": 47
        }
      ]
    },
    {
      "cell_type": "markdown",
      "metadata": {
        "id": "UUx-rrFZxWsI"
      },
      "source": [
        "5. По данным из файла `addres-book-q.xml` сформировать список словарей с телефонами каждого из людей. "
      ]
    },
    {
      "cell_type": "code",
      "source": [
        "with open('/addres-book-q.xml') as f:\n",
        "  ab = BeautifulSoup(f, 'xml')\n",
        "  result = []\n",
        "  for address in ab.find_all('address'):\n",
        "    user = address.find('name').get_text()\n",
        "    for phone in address.find_all('phone'):\n",
        "      phone = phone.get_text()\n",
        "      result.append({user: phone})\n",
        "result"
      ],
      "metadata": {
        "colab": {
          "base_uri": "https://localhost:8080/"
        },
        "id": "6lF1AkT_Nwuj",
        "outputId": "857b86cf-b602-4f62-992a-2de56d2b0b01"
      },
      "execution_count": 42,
      "outputs": [
        {
          "output_type": "execute_result",
          "data": {
            "text/plain": [
              "[{'Aicha Barki': '+ (213) 6150 4015'},\n",
              " {'Aicha Barki': '+ (213) 2173 5247'},\n",
              " {'Francisco Domingos': '+ (244-2) 325 023'},\n",
              " {'Francisco Domingos': '+ (244-2) 325 023'},\n",
              " {'Maria Luisa': '+ (244) 4232 2836'},\n",
              " {'Abraao Chanda': '+ (244-2) 325 023'},\n",
              " {'Abraao Chanda': '+ (244-2) 325 023'},\n",
              " {'Beatriz Busaniche': '+ (54-11) 4784 1159'},\n",
              " {'Francesca Beddie': '+ (61-2) 6274 9500'},\n",
              " {'Francesca Beddie': '+ (61-2) 6274 9513'},\n",
              " {'Graham John Smith': '+ (61-3) 9807 4702'}]"
            ]
          },
          "metadata": {},
          "execution_count": 42
        }
      ]
    }
  ]
}