{
  "cells": [
    {
      "cell_type": "markdown",
      "metadata": {
        "id": "view-in-github",
        "colab_type": "text"
      },
      "source": [
        "<a href=\"https://colab.research.google.com/github/alexrzntsv/TOBD-FU/blob/main/3.%20files%20(XML%2C%20JSON)/03_data_files_v2_%D0%A0%D1%8F%D0%B7%D0%B0%D0%BD%D1%86%D0%B5%D0%B2_%D0%90%D0%BB%D0%B5%D0%BA%D1%81%D0%B5%D0%B9.ipynb\" target=\"_parent\"><img src=\"https://colab.research.google.com/assets/colab-badge.svg\" alt=\"Open In Colab\"/></a>"
      ]
    },
    {
      "cell_type": "markdown",
      "metadata": {
        "id": "3L8UyDXVrV81"
      },
      "source": [
        "# Работа с файлами данных"
      ]
    },
    {
      "cell_type": "markdown",
      "metadata": {
        "id": "NxayWtHArV85"
      },
      "source": [
        "Материалы:\n",
        "* Макрушин С.В. \"Лекция 4: Форматы данных\"\n",
        "* https://docs.python.org/3/library/json.html\n",
        "* https://docs.python.org/3/library/pickle.html\n",
        "* https://www.crummy.com/software/BeautifulSoup/bs4/doc.ru/bs4ru.html\n",
        "* Уэс Маккини. Python и анализ данных\n",
        "\n",
        "v 0.2 05.10.22"
      ]
    },
    {
      "cell_type": "markdown",
      "metadata": {
        "id": "fMxpHHi1rV86"
      },
      "source": [
        "## Задачи для совместного разбора"
      ]
    },
    {
      "cell_type": "markdown",
      "metadata": {
        "id": "vUqIDFeDrV87"
      },
      "source": [
        "1. Вывести все адреса электронной почты, содержащиеся в адресной книге `addres-book.json`"
      ]
    },
    {
      "cell_type": "code",
      "source": [
        "import json"
      ],
      "metadata": {
        "id": "v7sdZO7ayu_k"
      },
      "execution_count": 3,
      "outputs": []
    },
    {
      "cell_type": "code",
      "source": [
        "with open('addres-book.json', 'r', encoding='utf-8') as f: # открываем файл на чтение\n",
        "  ab_fjs = json.load(f)"
      ],
      "metadata": {
        "id": "uE8wEBIIsE79"
      },
      "execution_count": 4,
      "outputs": []
    },
    {
      "cell_type": "code",
      "source": [
        "for i in ab_fjs:\n",
        "  print(i['email'])"
      ],
      "metadata": {
        "colab": {
          "base_uri": "https://localhost:8080/"
        },
        "id": "EyKbsCmDyxpO",
        "outputId": "e82faa54-b783-42ad-b1b3-5b26f8975b26"
      },
      "execution_count": 6,
      "outputs": [
        {
          "output_type": "stream",
          "name": "stdout",
          "text": [
            "faina@mail.ru\n",
            "robert@mail.ru\n",
            "faina@mail.ru\n",
            "robert@mail.ru\n"
          ]
        }
      ]
    },
    {
      "cell_type": "markdown",
      "metadata": {
        "id": "b5rhXt4jrV88"
      },
      "source": [
        "2. Вывести телефоны, содержащиеся в адресной книге `addres-book.json`"
      ]
    },
    {
      "cell_type": "code",
      "source": [
        "for i in ab_fjs:\n",
        "  for j in i['phones']:\n",
        "    print(j['phone'])"
      ],
      "metadata": {
        "colab": {
          "base_uri": "https://localhost:8080/"
        },
        "id": "rJX3OfxUzFH_",
        "outputId": "b6ddf679-4ea4-47ab-d31c-06f4a361341a"
      },
      "execution_count": 8,
      "outputs": [
        {
          "output_type": "stream",
          "name": "stdout",
          "text": [
            "232-19-55\n",
            "+7 (916) 232-19-55\n",
            "111-19-55\n",
            "+7 (916) 445-19-55\n",
            "232-19-55\n",
            "+7 (916) 232-19-55\n",
            "111-19-55\n",
            "+7 (916) 445-19-55\n"
          ]
        }
      ]
    },
    {
      "cell_type": "markdown",
      "metadata": {
        "id": "fuIUtpVsrV88"
      },
      "source": [
        "3. По данным из файла `addres-book-q.xml` сформировать список словарей с телефонами каждого из людей. "
      ]
    },
    {
      "cell_type": "code",
      "source": [
        "import requests\n",
        "from bs4 import BeautifulSoup"
      ],
      "metadata": {
        "id": "F6F1a-98zpBP"
      },
      "execution_count": 9,
      "outputs": []
    },
    {
      "cell_type": "code",
      "source": [
        "with open('addres-book-q.xml') as f:\n",
        "  ab = BeautifulSoup(f, 'xml')"
      ],
      "metadata": {
        "id": "EPgpMlpFz2O_"
      },
      "execution_count": 12,
      "outputs": []
    },
    {
      "cell_type": "code",
      "source": [
        "res = list();\n",
        "for person in ab.address_book.find_all(\"address\"):\n",
        "  ph = [phones.next for phones in person.phones.find_all(\"phone\")]\n",
        "  res.append({person.find(\"name\").next: ph})\n",
        "res"
      ],
      "metadata": {
        "colab": {
          "base_uri": "https://localhost:8080/"
        },
        "id": "OH-7gXJgz2Wh",
        "outputId": "91a0256c-ddbd-467b-de33-d60debd7346b"
      },
      "execution_count": 16,
      "outputs": [
        {
          "output_type": "execute_result",
          "data": {
            "text/plain": [
              "[{'Aicha Barki': ['+ (213) 6150 4015', '+ (213) 2173 5247']},\n",
              " {'Francisco Domingos': ['+ (244-2) 325 023', '+ (244-2) 325 023']},\n",
              " {'Maria Luisa': ['+ (244) 4232 2836']},\n",
              " {'Abraao Chanda': ['+ (244-2) 325 023', '+ (244-2) 325 023']},\n",
              " {'Beatriz Busaniche': ['+ (54-11) 4784 1159']},\n",
              " {'Francesca Beddie': ['+ (61-2) 6274 9500', '+ (61-2) 6274 9513']},\n",
              " {'Graham John Smith': ['+ (61-3) 9807 4702']}]"
            ]
          },
          "metadata": {},
          "execution_count": 16
        }
      ]
    },
    {
      "cell_type": "markdown",
      "metadata": {
        "id": "5K61QFyorV89"
      },
      "source": [
        "## Лабораторная работа №3.1"
      ]
    },
    {
      "cell_type": "markdown",
      "metadata": {
        "id": "WfMSzoFIrV89"
      },
      "source": [
        "### JSON"
      ]
    },
    {
      "cell_type": "markdown",
      "metadata": {
        "id": "f2sITSiFrV8-"
      },
      "source": [
        "1.1 Считайте файл `contributors_sample.json`. Воспользовавшись модулем `json`, преобразуйте содержимое файла в соответствующие объекты python. Выведите на экран информацию о первых 3 пользователях."
      ]
    },
    {
      "cell_type": "code",
      "source": [
        "with open('contributors_sample.json', 'r', encoding='utf-8') as f: \n",
        "  ab = json.load(f)"
      ],
      "metadata": {
        "id": "7iUlJLtd03Cq"
      },
      "execution_count": 17,
      "outputs": []
    },
    {
      "cell_type": "code",
      "source": [
        "print(type(ab))\n",
        "print(type(ab[0]))"
      ],
      "metadata": {
        "colab": {
          "base_uri": "https://localhost:8080/"
        },
        "id": "Qwcc1mmj1G4E",
        "outputId": "24059bec-6166-4f17-fabd-98cefb815c4e"
      },
      "execution_count": 21,
      "outputs": [
        {
          "output_type": "stream",
          "name": "stdout",
          "text": [
            "<class 'list'>\n",
            "<class 'dict'>\n"
          ]
        }
      ]
    },
    {
      "cell_type": "code",
      "source": [
        "ab[:3]"
      ],
      "metadata": {
        "colab": {
          "base_uri": "https://localhost:8080/"
        },
        "id": "yq4_ovMP1fFO",
        "outputId": "260ff53c-1dae-4f4a-9824-30039bb887da"
      },
      "execution_count": 22,
      "outputs": [
        {
          "output_type": "execute_result",
          "data": {
            "text/plain": [
              "[{'username': 'uhebert',\n",
              "  'name': 'Lindsey Nguyen',\n",
              "  'sex': 'F',\n",
              "  'address': '01261 Cameron Spring\\nTaylorfurt, AK 97791',\n",
              "  'mail': 'jsalazar@gmail.com',\n",
              "  'jobs': ['Energy engineer',\n",
              "   'Engineer, site',\n",
              "   'Environmental health practitioner',\n",
              "   'Biomedical scientist',\n",
              "   'Jewellery designer'],\n",
              "  'id': 35193},\n",
              " {'username': 'vickitaylor',\n",
              "  'name': 'Cheryl Lewis',\n",
              "  'sex': 'F',\n",
              "  'address': '66992 Welch Brooks\\nMarshallshire, ID 56004',\n",
              "  'mail': 'bhudson@gmail.com',\n",
              "  'jobs': ['Music therapist',\n",
              "   'Volunteer coordinator',\n",
              "   'Designer, interior/spatial'],\n",
              "  'id': 91970},\n",
              " {'username': 'sheilaadams',\n",
              "  'name': 'Julia Allen',\n",
              "  'sex': 'F',\n",
              "  'address': 'Unit 1632 Box 2971\\nDPO AE 23297',\n",
              "  'mail': 'darren44@yahoo.com',\n",
              "  'jobs': ['Management consultant',\n",
              "   'Engineer, structural',\n",
              "   'Lecturer, higher education',\n",
              "   'Theatre manager',\n",
              "   'Designer, textile'],\n",
              "  'id': 1848091}]"
            ]
          },
          "metadata": {},
          "execution_count": 22
        }
      ]
    },
    {
      "cell_type": "markdown",
      "metadata": {
        "id": "C96HpKSSrV8_"
      },
      "source": [
        "1.2 Выведите уникальные почтовые домены, содержащиеся в почтовых адресах людей"
      ]
    },
    {
      "cell_type": "code",
      "source": [
        "domen_list = []\n",
        "for i in ab:\n",
        "  domen = i['mail'].split('@')[-1].split('.')[0]\n",
        "  if domen not in domen_list:\n",
        "    domen_list.append(domen)\n",
        "domen_list"
      ],
      "metadata": {
        "colab": {
          "base_uri": "https://localhost:8080/"
        },
        "id": "3CqD6bXZ1ke_",
        "outputId": "6dce9a86-5b8e-4517-d3cb-c134156fb0f5"
      },
      "execution_count": 33,
      "outputs": [
        {
          "output_type": "execute_result",
          "data": {
            "text/plain": [
              "['gmail', 'yahoo', 'hotmail']"
            ]
          },
          "metadata": {},
          "execution_count": 33
        }
      ]
    },
    {
      "cell_type": "markdown",
      "metadata": {
        "id": "8iGUr7EKrV8_"
      },
      "source": [
        "1.3 Напишите функцию, которая по `username` ищет человека и выводит информацию о нем. Если пользователь с заданным `username` отсутствует, возбудите исключение `ValueError`"
      ]
    },
    {
      "cell_type": "code",
      "source": [
        "def find_user(username, f=ab):\n",
        "  for i in f:\n",
        "    if i['name'] == username:\n",
        "      return i\n",
        "      break\n",
        "  else:\n",
        "    raise ValueError('Имя отсутствует')\n"
      ],
      "metadata": {
        "id": "fdRhQxK-3xRy"
      },
      "execution_count": 49,
      "outputs": []
    },
    {
      "cell_type": "code",
      "source": [
        "find_user('April Jones')"
      ],
      "metadata": {
        "colab": {
          "base_uri": "https://localhost:8080/"
        },
        "id": "0rmgrSWB4eDh",
        "outputId": "2934832d-adee-4d21-8e89-80866197c64e"
      },
      "execution_count": 50,
      "outputs": [
        {
          "output_type": "execute_result",
          "data": {
            "text/plain": [
              "{'username': 'jmiller',\n",
              " 'name': 'April Jones',\n",
              " 'sex': 'F',\n",
              " 'address': '191 Melanie Underpass Suite 350\\nDorisshire, SC 61721',\n",
              " 'mail': 'garciaderek@yahoo.com',\n",
              " 'jobs': ['Communications engineer',\n",
              "  'Translator',\n",
              "  'Teacher, music',\n",
              "  'Journalist, newspaper'],\n",
              " 'id': 48902}"
            ]
          },
          "metadata": {},
          "execution_count": 50
        }
      ]
    },
    {
      "cell_type": "code",
      "source": [
        "find_user('Nikita Aryasin')"
      ],
      "metadata": {
        "colab": {
          "base_uri": "https://localhost:8080/",
          "height": 252
        },
        "id": "iqHb085N4mI5",
        "outputId": "a09682df-9104-47a4-f0f8-3760559491ad"
      },
      "execution_count": 51,
      "outputs": [
        {
          "output_type": "error",
          "ename": "ValueError",
          "evalue": "ignored",
          "traceback": [
            "\u001b[0;31m---------------------------------------------------------------------------\u001b[0m",
            "\u001b[0;31mValueError\u001b[0m                                Traceback (most recent call last)",
            "\u001b[0;32m<ipython-input-51-5d69be25774d>\u001b[0m in \u001b[0;36m<module>\u001b[0;34m\u001b[0m\n\u001b[0;32m----> 1\u001b[0;31m \u001b[0mfind_user\u001b[0m\u001b[0;34m(\u001b[0m\u001b[0;34m'Nikita Aryasin'\u001b[0m\u001b[0;34m)\u001b[0m\u001b[0;34m\u001b[0m\u001b[0;34m\u001b[0m\u001b[0m\n\u001b[0m",
            "\u001b[0;32m<ipython-input-49-1b91025279ad>\u001b[0m in \u001b[0;36mfind_user\u001b[0;34m(username, f)\u001b[0m\n\u001b[1;32m      5\u001b[0m       \u001b[0;32mbreak\u001b[0m\u001b[0;34m\u001b[0m\u001b[0;34m\u001b[0m\u001b[0m\n\u001b[1;32m      6\u001b[0m   \u001b[0;32melse\u001b[0m\u001b[0;34m:\u001b[0m\u001b[0;34m\u001b[0m\u001b[0;34m\u001b[0m\u001b[0m\n\u001b[0;32m----> 7\u001b[0;31m     \u001b[0;32mraise\u001b[0m \u001b[0mValueError\u001b[0m\u001b[0;34m(\u001b[0m\u001b[0;34m'Имя отсутствует'\u001b[0m\u001b[0;34m)\u001b[0m\u001b[0;34m\u001b[0m\u001b[0;34m\u001b[0m\u001b[0m\n\u001b[0m",
            "\u001b[0;31mValueError\u001b[0m: Имя отсутствует"
          ]
        }
      ]
    },
    {
      "cell_type": "markdown",
      "metadata": {
        "id": "KKDveVcPrV9A"
      },
      "source": [
        "1.4 Посчитайте, сколько мужчин и женщин присутсвует в этом наборе данных."
      ]
    },
    {
      "cell_type": "code",
      "source": [
        "m = []\n",
        "f = []\n",
        "for i in ab:\n",
        "  if i['sex'] == 'M':\n",
        "      m.append(i['name'])\n",
        "  elif i['sex'] == 'F':\n",
        "      f.append(i['name'])\n",
        "# Если учитывать возможное наличие людей с одинаковыми ФИО\n",
        "print('Количество женщин: ', len(m))\n",
        "print('Количество мужчин: ', len(f))\n",
        "# Если не учитывать:\n",
        "#print('Количество женщин: ', len(set(m)))\n",
        "#print('Количество мужчин: ', len(set(f)))"
      ],
      "metadata": {
        "colab": {
          "base_uri": "https://localhost:8080/"
        },
        "id": "_AIBicYk5Zbv",
        "outputId": "ae750538-2658-41be-ce06-e074427f11f1"
      },
      "execution_count": 63,
      "outputs": [
        {
          "output_type": "stream",
          "name": "stdout",
          "text": [
            "Количество женщин:  2064\n",
            "Количество мужчин:  2136\n"
          ]
        }
      ]
    },
    {
      "cell_type": "markdown",
      "metadata": {
        "id": "rFD2NpHmrV9A"
      },
      "source": [
        "1.5 Создайте `pd.DataFrame` `contributors`, имеющий столбцы `id`, `username` и `sex`."
      ]
    },
    {
      "cell_type": "code",
      "source": [
        "import pandas as pd"
      ],
      "metadata": {
        "id": "OtenwopF7Sr6"
      },
      "execution_count": 65,
      "outputs": []
    },
    {
      "cell_type": "code",
      "source": [],
      "metadata": {
        "id": "moZMAjb77cmQ"
      },
      "execution_count": null,
      "outputs": []
    },
    {
      "cell_type": "markdown",
      "metadata": {
        "id": "Ceet9bBKrV9B"
      },
      "source": [
        "1.6 Загрузите данные из файла `recipes_sample.csv` (__ЛР2__) в таблицу `recipes`. Объедините `recipes` с таблицей `contributors` с сохранением строк в том случае, если информация о человеке отсутствует в JSON-файле. Для скольких человек информация отсутствует? "
      ]
    },
    {
      "cell_type": "markdown",
      "metadata": {
        "id": "hbq0Axo_rV9C"
      },
      "source": [
        "### pickle"
      ]
    },
    {
      "cell_type": "markdown",
      "metadata": {
        "id": "_h9sXP_zrV9C"
      },
      "source": [
        "2.1 На основе файла `contributors_sample.json` создайте словарь следующего вида: \n",
        "```\n",
        "{\n",
        "    должность: [список username людей, занимавших эту должность]\n",
        "}\n",
        "```"
      ]
    },
    {
      "cell_type": "markdown",
      "metadata": {
        "id": "P0gyHHGlrV9D"
      },
      "source": [
        "2.2 Сохраните результаты в файл `job_people.pickle` и в файл `job_people.json` с использованием форматов pickle и JSON соответственно. Сравните объемы получившихся файлов. При сохранении в JSON укажите аргумент `indent`."
      ]
    },
    {
      "cell_type": "markdown",
      "metadata": {
        "id": "rOCDekMFrV9D"
      },
      "source": [
        "2.3 Считайте файл `job_people.pickle` и продемонстрируйте, что данные считались корректно. "
      ]
    },
    {
      "cell_type": "markdown",
      "metadata": {
        "id": "lGYlrEHbrV9E"
      },
      "source": [
        "## Лабораторная работа №3.2"
      ]
    },
    {
      "cell_type": "markdown",
      "metadata": {
        "id": "wIGBydKOrV9E"
      },
      "source": [
        "### XML"
      ]
    },
    {
      "cell_type": "markdown",
      "metadata": {
        "id": "lqxVTnSorV9F"
      },
      "source": [
        "3.1 По данным файла `steps_sample.xml` сформируйте словарь с шагами по каждому рецепту вида `{id_рецепта: [\"шаг1\", \"шаг2\"]}`. Сохраните этот словарь в файл `steps_sample.json`"
      ]
    },
    {
      "cell_type": "markdown",
      "metadata": {
        "id": "xicOZ0xmrV9F"
      },
      "source": [
        "3.2 По данным файла `steps_sample.xml` сформируйте словарь следующего вида: `кол-во_шагов_в_рецепте: [список_id_рецептов]`"
      ]
    },
    {
      "cell_type": "markdown",
      "metadata": {
        "id": "jSi6Bk-OrV9G"
      },
      "source": [
        "3.3 Получите список рецептов, в этапах выполнения которых есть информация о времени (часы или минуты). Для отбора подходящих рецептов обратите внимание на атрибуты соответствующих тэгов."
      ]
    },
    {
      "cell_type": "markdown",
      "metadata": {
        "id": "ExM8j5UNrV9H"
      },
      "source": [
        "3.4 Загрузите данные из файла `recipes_sample.csv` (__ЛР2__) в таблицу `recipes`. Для строк, которые содержат пропуски в столбце `n_steps`, заполните этот столбец на основе файла  `steps_sample.xml`. Строки, в которых столбец `n_steps` заполнен, оставьте без изменений."
      ]
    },
    {
      "cell_type": "markdown",
      "metadata": {
        "id": "aR2QUuTHrV9H"
      },
      "source": [
        "3.5 Проверьте, содержит ли столбец `n_steps` пропуски. Если нет, то преобразуйте его к целочисленному типу и сохраните результаты в файл `recipes_sample_with_filled_nsteps.csv`"
      ]
    },
    {
      "cell_type": "code",
      "execution_count": null,
      "metadata": {
        "id": "IPXmK6QurV9I"
      },
      "outputs": [],
      "source": []
    }
  ],
  "metadata": {
    "kernelspec": {
      "display_name": "Python 3",
      "language": "python",
      "name": "python3"
    },
    "language_info": {
      "codemirror_mode": {
        "name": "ipython",
        "version": 3
      },
      "file_extension": ".py",
      "mimetype": "text/x-python",
      "name": "python",
      "nbconvert_exporter": "python",
      "pygments_lexer": "ipython3",
      "version": "3.7.6"
    },
    "colab": {
      "provenance": [],
      "include_colab_link": true
    }
  },
  "nbformat": 4,
  "nbformat_minor": 0
}