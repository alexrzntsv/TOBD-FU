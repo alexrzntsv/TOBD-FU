{
  "cells": [
    {
      "cell_type": "markdown",
      "metadata": {
        "id": "view-in-github",
        "colab_type": "text"
      },
      "source": [
        "<a href=\"https://colab.research.google.com/github/alexrzntsv/TOBD-FU/blob/main/1/01_numpy_lr1_%D0%9F%D0%9821_2_%D0%A0%D1%8F%D0%B7%D0%B0%D0%BD%D1%86%D0%B5%D0%B2_%D0%90%D0%BB%D0%B5%D0%BA%D1%81%D0%B5%D0%B9.ipynb\" target=\"_parent\"><img src=\"https://colab.research.google.com/assets/colab-badge.svg\" alt=\"Open In Colab\"/></a>"
      ]
    },
    {
      "cell_type": "markdown",
      "metadata": {
        "id": "McL3vYH9-Hgw"
      },
      "source": [
        "# Numpy"
      ]
    },
    {
      "cell_type": "markdown",
      "metadata": {
        "id": "8UtOtBhD-Hg6"
      },
      "source": [
        "Материалы:\n",
        "* Макрушин С.В. \"Лекция 1: Библиотека Numpy\"\n",
        "* https://numpy.org/doc/stable/user/index.html\n",
        "* https://numpy.org/doc/stable/reference/index.html"
      ]
    },
    {
      "cell_type": "code",
      "source": [
        "import numpy as np"
      ],
      "metadata": {
        "id": "Qzy9NpW6-Uom"
      },
      "execution_count": 1,
      "outputs": []
    },
    {
      "cell_type": "markdown",
      "metadata": {
        "id": "DTKp989t-Hg7"
      },
      "source": [
        "## Задачи для совместного разбора"
      ]
    },
    {
      "cell_type": "markdown",
      "metadata": {
        "id": "in6lJdSb-Hg8"
      },
      "source": [
        "1. Сгенерировать двухмерный массив `arr` размерности (4, 7), состоящий из случайных действительных чисел, равномерно распределенных в диапазоне от 0 до 20. Нормализовать значения массива с помощью преобразования вида  $𝑎𝑥+𝑏$  так, что после нормализации максимальный элемент масcива будет равен 1.0, минимальный 0.0"
      ]
    },
    {
      "cell_type": "code",
      "source": [
        "arr1 = np.linspace(0, 20, 28).reshape((4, 7))\n",
        "\n",
        "result = (arr1 - np.min(arr1))/np.ptp(arr1)\n",
        "print(result)"
      ],
      "metadata": {
        "colab": {
          "base_uri": "https://localhost:8080/"
        },
        "id": "kyq_sA-H-Ojf",
        "outputId": "2ec52127-c7f8-49b0-f698-ff5a5a19cba7"
      },
      "execution_count": null,
      "outputs": [
        {
          "output_type": "stream",
          "name": "stdout",
          "text": [
            "[[0.         0.03703704 0.07407407 0.11111111 0.14814815 0.18518519\n",
            "  0.22222222]\n",
            " [0.25925926 0.2962963  0.33333333 0.37037037 0.40740741 0.44444444\n",
            "  0.48148148]\n",
            " [0.51851852 0.55555556 0.59259259 0.62962963 0.66666667 0.7037037\n",
            "  0.74074074]\n",
            " [0.77777778 0.81481481 0.85185185 0.88888889 0.92592593 0.96296296\n",
            "  1.        ]]\n"
          ]
        }
      ]
    },
    {
      "cell_type": "markdown",
      "metadata": {
        "id": "eZkdlKyZ-Hg9"
      },
      "source": [
        "2. Создать матрицу 8 на 10 из случайных целых (используя модуль `numpy.random`) чисел из диапозона от 0 до 10 и найти в ней строку (ее индекс и вывести саму строку), в которой сумма значений минимальна."
      ]
    },
    {
      "cell_type": "code",
      "source": [
        "arr = np.random.randint(0, 10, (8, 10))\n",
        "print(arr[arr.sum(axis=1).argmin()], arr.sum(axis=1).argmin())"
      ],
      "metadata": {
        "colab": {
          "base_uri": "https://localhost:8080/"
        },
        "id": "UfT3rL0--PFV",
        "outputId": "9f5f51c6-7b26-4005-cd35-3cccc65f61e2"
      },
      "execution_count": null,
      "outputs": [
        {
          "output_type": "stream",
          "name": "stdout",
          "text": [
            "[0 4 2 2 0 3 8 5 4 2] 4\n"
          ]
        }
      ]
    },
    {
      "cell_type": "markdown",
      "metadata": {
        "id": "0bKDEOO2-Hg-"
      },
      "source": [
        "3. Найти евклидово расстояние между двумя одномерными векторами одинаковой размерности."
      ]
    },
    {
      "cell_type": "code",
      "source": [
        "arr1 = np.array((1, 1, 1))\n",
        "arr2 = np.array((4, 3, 2))\n",
        "\n",
        "# вариант 1\n",
        "#distance = np.linalg.norm(arr1-arr2)\n",
        "#distance\n",
        "\n",
        "# вариант 2\n",
        "distance = np.sqrt(sum(pow(a-b, 2) for a, b in zip(arr1, arr2)))\n",
        "distance"
      ],
      "metadata": {
        "colab": {
          "base_uri": "https://localhost:8080/"
        },
        "id": "yG18SLi--PrS",
        "outputId": "868f5a2b-4a27-40b4-a284-17b055fa7cdc"
      },
      "execution_count": null,
      "outputs": [
        {
          "output_type": "execute_result",
          "data": {
            "text/plain": [
              "3.7416573867739413"
            ]
          },
          "metadata": {},
          "execution_count": 37
        }
      ]
    },
    {
      "cell_type": "markdown",
      "metadata": {
        "id": "12_eNvV7-Hg_"
      },
      "source": [
        "4. Решить матричное уравнение `A*X*B=-C` - найти матрицу `X`. Где `A = [[-1, 2, 4], [-3, 1, 2], [-3, 0, 1]]`, `B=[[3, -1], [2, 1]]`, `C=[[7, 21], [11, 8], [8, 4]]`."
      ]
    },
    {
      "cell_type": "code",
      "source": [
        "A = np.array([[-1, 2, 4], [-3, 1, 2], [-3, 0, 1]])\n",
        "B = np.array([[3, -1], [2, 1]])\n",
        "C = np.array([[7, 21], [11, 8], [8, 4]])\n",
        "\n",
        "X = np.matmul(np.matmul(np.linalg.inv(A), -C), np.linalg.inv(B))  \n",
        "X"
      ],
      "metadata": {
        "id": "NfFySelk-QWJ",
        "colab": {
          "base_uri": "https://localhost:8080/"
        },
        "outputId": "e565beeb-6942-4a78-9d73-446af50b92b4"
      },
      "execution_count": null,
      "outputs": [
        {
          "output_type": "execute_result",
          "data": {
            "text/plain": [
              "array([[ 1.00000000e+00,  5.32907052e-16],\n",
              "       [-2.00000000e+00,  1.00000000e+00],\n",
              "       [ 3.00000000e+00, -4.00000000e+00]])"
            ]
          },
          "metadata": {},
          "execution_count": 49
        }
      ]
    },
    {
      "cell_type": "markdown",
      "metadata": {
        "id": "yxPFGFqz-HhA"
      },
      "source": [
        "## Лабораторная работа №1.1"
      ]
    },
    {
      "cell_type": "markdown",
      "metadata": {
        "id": "P0i8Zv0R-HhB"
      },
      "source": [
        "Замечание: при решении данных задач не подразумевается использования циклов или генераторов Python, если в задании не сказано обратного. Решение должно опираться на использования функционала библиотеки `numpy`."
      ]
    },
    {
      "cell_type": "markdown",
      "metadata": {
        "id": "HKbsfVj5-HhC"
      },
      "source": [
        "1. Файл `minutes_n_ingredients.csv` содержит информацию об идентификаторе рецепта, времени его выполнения в минутах и количестве необходимых ингредиентов. Считайте данные из этого файла в виде массива `numpy` типа `int32`, используя `np.loadtxt`. Выведите на экран первые 5 строк массива."
      ]
    },
    {
      "cell_type": "code",
      "source": [
        "data = np.loadtxt('https://raw.githubusercontent.com/alexrzntsv/TOBD-FU/main/1/minutes_n_ingredients.csv', delimiter = ',', skiprows=1, dtype = 'int32')\n",
        "data[:5]"
      ],
      "metadata": {
        "colab": {
          "base_uri": "https://localhost:8080/"
        },
        "id": "n9yWxYvEKFmY",
        "outputId": "ff22b915-85b7-45b7-f76b-be532e47e1dc"
      },
      "execution_count": 11,
      "outputs": [
        {
          "output_type": "execute_result",
          "data": {
            "text/plain": [
              "array([[127244,     60,     16],\n",
              "       [ 23891,     25,      7],\n",
              "       [ 94746,     10,      6],\n",
              "       [ 67660,      5,      6],\n",
              "       [157911,     60,     14]], dtype=int32)"
            ]
          },
          "metadata": {},
          "execution_count": 11
        }
      ]
    },
    {
      "cell_type": "markdown",
      "metadata": {
        "id": "TldGxHXi-HhD"
      },
      "source": [
        "2. Вычислите среднее значение, минимум, максимум и медиану по каждому из столбцов, кроме первого."
      ]
    },
    {
      "cell_type": "code",
      "source": [
        "print('Mинимум:', data[:, 1:].min(axis=0))\n",
        "print('Mаксимум:', data[:, 1:].max(axis=0))\n",
        "print('Медиана:', np.median(data[:, 1:], axis=0))"
      ],
      "metadata": {
        "colab": {
          "base_uri": "https://localhost:8080/"
        },
        "id": "unTcolifLWjx",
        "outputId": "a1b8428e-5bf0-4971-e00a-40e06ffccc09"
      },
      "execution_count": 19,
      "outputs": [
        {
          "output_type": "stream",
          "name": "stdout",
          "text": [
            "Mинимум: [0 1]\n",
            "Mаксимум: [2147483647         39]\n",
            "Медиана: [40.  9.]\n"
          ]
        }
      ]
    },
    {
      "cell_type": "markdown",
      "metadata": {
        "id": "vEGLiM-J-HhE"
      },
      "source": [
        "3. Ограничьте сверху значения продолжительности выполнения рецепта значением квантиля $q_{0.75}$. "
      ]
    },
    {
      "cell_type": "code",
      "source": [
        "data[data[:, 1] < np.quantile(data[:, 1], 0.75)]"
      ],
      "metadata": {
        "colab": {
          "base_uri": "https://localhost:8080/"
        },
        "id": "g7tYMdrkN6M7",
        "outputId": "dd520fc4-d9cf-4896-d22b-bc07dafbd1ba"
      },
      "execution_count": 30,
      "outputs": [
        {
          "output_type": "execute_result",
          "data": {
            "text/plain": [
              "array([[127244,     60,     16],\n",
              "       [ 23891,     25,      7],\n",
              "       [ 94746,     10,      6],\n",
              "       ...,\n",
              "       [371794,     35,      8],\n",
              "       [ 43407,     35,      7],\n",
              "       [370915,      5,      4]], dtype=int32)"
            ]
          },
          "metadata": {},
          "execution_count": 30
        }
      ]
    },
    {
      "cell_type": "markdown",
      "metadata": {
        "id": "-AKXDntZ-HhF"
      },
      "source": [
        "4. Посчитайте, для скольких рецептов указана продолжительность, равная нулю. Замените для таких строк значение в данном столбце на 1."
      ]
    },
    {
      "cell_type": "code",
      "source": [
        "print(f'Продолжительность равна нулю для {data[data[:, 1] == 0].shape[0]} рецептов')"
      ],
      "metadata": {
        "colab": {
          "base_uri": "https://localhost:8080/"
        },
        "id": "Ka_v1JzQOzN2",
        "outputId": "d140294e-21b6-4895-e206-2233c62a67b0"
      },
      "execution_count": 37,
      "outputs": [
        {
          "output_type": "stream",
          "name": "stdout",
          "text": [
            "Продолжительность равна нулю для 479 рецептов\n"
          ]
        }
      ]
    },
    {
      "cell_type": "code",
      "source": [
        "data[:, 1][data[:, 1] == 0] = 1"
      ],
      "metadata": {
        "id": "u0KTW6aQOzRR"
      },
      "execution_count": 41,
      "outputs": []
    },
    {
      "cell_type": "code",
      "source": [
        "print(f'После замены осталось {data[data[:, 1] == 0].shape[0]} рецептов с продолжительностью 0')"
      ],
      "metadata": {
        "colab": {
          "base_uri": "https://localhost:8080/"
        },
        "id": "E_rsompvQqJ2",
        "outputId": "945b2fa5-32ea-4720-ff4d-e41f7242d134"
      },
      "execution_count": 50,
      "outputs": [
        {
          "output_type": "stream",
          "name": "stdout",
          "text": [
            "После замены осталось 0 рецептов с продолжительностью 0\n"
          ]
        }
      ]
    },
    {
      "cell_type": "markdown",
      "metadata": {
        "id": "E4_IjflN-HhF"
      },
      "source": [
        "5. Посчитайте, сколько уникальных рецептов находится в датасете."
      ]
    },
    {
      "cell_type": "code",
      "source": [
        "print(f'Количество уникальных рецептов - {np.unique(data[:, 0], axis=0).shape[0]}')"
      ],
      "metadata": {
        "colab": {
          "base_uri": "https://localhost:8080/"
        },
        "id": "tJqvRaCNRTJJ",
        "outputId": "fd161738-8d46-4b34-b4e8-ceae509bbf15"
      },
      "execution_count": 61,
      "outputs": [
        {
          "output_type": "stream",
          "name": "stdout",
          "text": [
            "Количество уникальных рецептов - 100000\n"
          ]
        }
      ]
    },
    {
      "cell_type": "markdown",
      "metadata": {
        "id": "8gQzVYv9-HhG"
      },
      "source": [
        "6. Сколько и каких различных значений кол-ва ингредиентов присутвует в рецептах из датасета?"
      ]
    },
    {
      "cell_type": "code",
      "source": [
        "import re\n",
        "unique, counts = np.unique(data[:, 2], return_counts=True)\n",
        "print(dict(zip(unique, counts)))"
      ],
      "metadata": {
        "colab": {
          "base_uri": "https://localhost:8080/"
        },
        "id": "XlK_-jGbTUjm",
        "outputId": "497c642f-7394-4939-89c6-25182fca79b1"
      },
      "execution_count": 64,
      "outputs": [
        {
          "output_type": "stream",
          "name": "stdout",
          "text": [
            "{1: 13, 2: 926, 3: 2895, 4: 5515, 5: 7913, 6: 9376, 7: 10628, 8: 10951, 9: 10585, 10: 9591, 11: 8297, 12: 6605, 13: 4997, 14: 3663, 15: 2595, 16: 1767, 17: 1246, 18: 790, 19: 573, 20: 376, 21: 217, 22: 161, 23: 105, 24: 69, 25: 50, 26: 28, 27: 16, 28: 16, 29: 12, 30: 12, 31: 3, 32: 1, 33: 2, 34: 1, 35: 3, 37: 1, 39: 1}\n"
          ]
        }
      ]
    },
    {
      "cell_type": "markdown",
      "metadata": {
        "id": "FyBPLMmS-HhG"
      },
      "source": [
        "## Лабораторная работа №1.2"
      ]
    },
    {
      "cell_type": "markdown",
      "metadata": {
        "id": "BLCCO7Qt-HhH"
      },
      "source": [
        "7. Создайте версию массива, содержащую информацию только о рецептах, состоящих не более чем из 5 ингредиентов."
      ]
    },
    {
      "cell_type": "code",
      "source": [
        "data_5 = data[data[:, 2] <= 5]\n",
        "data_5[:5]"
      ],
      "metadata": {
        "colab": {
          "base_uri": "https://localhost:8080/"
        },
        "id": "gv3pbo6mUr46",
        "outputId": "bb789047-460a-494d-8cad-4d17e0673010"
      },
      "execution_count": 66,
      "outputs": [
        {
          "output_type": "execute_result",
          "data": {
            "text/plain": [
              "array([[446597,     15,      5],\n",
              "       [204134,      5,      3],\n",
              "       [ 25623,      6,      4],\n",
              "       [484223,     18,      4],\n",
              "       [ 63150,    250,      4]], dtype=int32)"
            ]
          },
          "metadata": {},
          "execution_count": 66
        }
      ]
    },
    {
      "cell_type": "markdown",
      "metadata": {
        "id": "vK56rtQE-HhH"
      },
      "source": [
        "8. Для каждого рецепта посчитайте, сколько в среднем ингредиентов приходится на одну минуту рецепта. Найдите максимальное значение этой величины для всего датасета"
      ]
    },
    {
      "cell_type": "code",
      "source": [
        "data_mean = data[:, 2] / data[:, 1]\n",
        "data_mean[:5]"
      ],
      "metadata": {
        "colab": {
          "base_uri": "https://localhost:8080/"
        },
        "id": "oFmmZnOWVA_j",
        "outputId": "fa723a77-1adc-4886-80fc-e9639ad321af"
      },
      "execution_count": 68,
      "outputs": [
        {
          "output_type": "execute_result",
          "data": {
            "text/plain": [
              "array([0.26666667, 0.28      , 0.6       , 1.2       , 0.23333333])"
            ]
          },
          "metadata": {},
          "execution_count": 68
        }
      ]
    },
    {
      "cell_type": "code",
      "source": [
        "print(f'Максимум: {data_mean.max()}')"
      ],
      "metadata": {
        "colab": {
          "base_uri": "https://localhost:8080/"
        },
        "id": "m_nJ6oUeVsJA",
        "outputId": "7af1d3c8-a57a-43bc-dea9-113711fc1fdb"
      },
      "execution_count": 74,
      "outputs": [
        {
          "output_type": "stream",
          "name": "stdout",
          "text": [
            "Максимум: 24.0\n"
          ]
        }
      ]
    },
    {
      "cell_type": "code",
      "source": [
        "# Решил посмотреть, что это за строка\n",
        "data[data[:, 2] / data[:, 1] == 24.0]"
      ],
      "metadata": {
        "colab": {
          "base_uri": "https://localhost:8080/"
        },
        "id": "_4No6iCwV52V",
        "outputId": "d279ea18-6e17-4484-a748-739424868e4f"
      },
      "execution_count": 75,
      "outputs": [
        {
          "output_type": "execute_result",
          "data": {
            "text/plain": [
              "array([[3137,    1,   24]], dtype=int32)"
            ]
          },
          "metadata": {},
          "execution_count": 75
        }
      ]
    },
    {
      "cell_type": "markdown",
      "metadata": {
        "id": "_XHFKOhN-HhI"
      },
      "source": [
        "9. Вычислите среднее количество ингредиентов для топ-100 рецептов с наибольшей продолжительностью"
      ]
    },
    {
      "cell_type": "code",
      "source": [
        "data[data[:, 1].argsort()][::-1][:100, 2].mean()"
      ],
      "metadata": {
        "colab": {
          "base_uri": "https://localhost:8080/"
        },
        "id": "vbs_FW6NW6Wg",
        "outputId": "671faccc-51c4-4d24-f333-dff365a76c8d"
      },
      "execution_count": 86,
      "outputs": [
        {
          "output_type": "execute_result",
          "data": {
            "text/plain": [
              "6.61"
            ]
          },
          "metadata": {},
          "execution_count": 86
        }
      ]
    },
    {
      "cell_type": "markdown",
      "metadata": {
        "id": "Od0BOMJe-HhI"
      },
      "source": [
        "10. Выберите случайным образом и выведите информацию о 10 различных рецептах"
      ]
    },
    {
      "cell_type": "code",
      "source": [
        "data[np.random.randint(0, data.shape[0], 10)]"
      ],
      "metadata": {
        "colab": {
          "base_uri": "https://localhost:8080/"
        },
        "id": "GKYsjGhhZR6W",
        "outputId": "99c263a5-fa75-4c73-e150-640ae25ec517"
      },
      "execution_count": 91,
      "outputs": [
        {
          "output_type": "execute_result",
          "data": {
            "text/plain": [
              "array([[ 69495,     60,      7],\n",
              "       [202782,     60,      8],\n",
              "       [244242,     60,     10],\n",
              "       [188784,     35,     10],\n",
              "       [263510,     90,      5],\n",
              "       [328292,     35,     13],\n",
              "       [216703,     40,      8],\n",
              "       [219240,     90,     17],\n",
              "       [195888,     45,     11],\n",
              "       [382559,      5,      6]], dtype=int32)"
            ]
          },
          "metadata": {},
          "execution_count": 91
        }
      ]
    },
    {
      "cell_type": "markdown",
      "metadata": {
        "id": "3dTOL4TY-HhJ"
      },
      "source": [
        "11. Выведите процент рецептов, кол-во ингредиентов в которых меньше среднего."
      ]
    },
    {
      "cell_type": "code",
      "source": [
        "print(f'{data[data[:,2] <data[:, 2].mean()].shape[0] / data.shape[0] * 100}%')"
      ],
      "metadata": {
        "colab": {
          "base_uri": "https://localhost:8080/"
        },
        "id": "S5gyiBKvZ9l2",
        "outputId": "39b93fde-72f6-4382-bba8-242da28ff325"
      },
      "execution_count": 98,
      "outputs": [
        {
          "output_type": "stream",
          "name": "stdout",
          "text": [
            "58.802%\n"
          ]
        }
      ]
    },
    {
      "cell_type": "markdown",
      "metadata": {
        "id": "J9RhqUjC-HhJ"
      },
      "source": [
        "12. Назовем \"простым\" такой рецепт, длительность выполнения которого не больше 20 минут и кол-во ингредиентов в котором не больше 5. Создайте версию датасета с дополнительным столбцом, значениями которого являются 1, если рецепт простой, и 0 в противном случае."
      ]
    },
    {
      "cell_type": "code",
      "source": [
        "mask = ((data[:, 1] <= 20) & (data[:, 2] <= 5)).astype(int).reshape(-1, 1) \n",
        "new_data = np.hstack((data, mask))\n",
        "new_data"
      ],
      "metadata": {
        "id": "9fMOkTMEnDdQ",
        "outputId": "74884cc4-7dc6-4bdc-a52c-7554dfb31fb9",
        "colab": {
          "base_uri": "https://localhost:8080/"
        }
      },
      "execution_count": 116,
      "outputs": [
        {
          "output_type": "execute_result",
          "data": {
            "text/plain": [
              "array([[127244,     60,     16,      0],\n",
              "       [ 23891,     25,      7,      0],\n",
              "       [ 94746,     10,      6,      0],\n",
              "       ...,\n",
              "       [498432,     65,     15,      0],\n",
              "       [370915,      5,      4,      1],\n",
              "       [ 81993,    140,     14,      0]])"
            ]
          },
          "metadata": {},
          "execution_count": 116
        }
      ]
    },
    {
      "cell_type": "markdown",
      "metadata": {
        "id": "R4gXEj5Y-HhK"
      },
      "source": [
        "13. Выведите процент \"простых\" рецептов в датасете"
      ]
    },
    {
      "cell_type": "code",
      "source": [
        "print(f'{new_data[new_data[:, -1] == 1].shape[0] / new_data.shape[0] * 100}%')"
      ],
      "metadata": {
        "id": "sW_7D4sqqo_x",
        "outputId": "8890b0a3-8be6-4cc9-82ec-d65ba68401d1",
        "colab": {
          "base_uri": "https://localhost:8080/"
        }
      },
      "execution_count": 124,
      "outputs": [
        {
          "output_type": "stream",
          "name": "stdout",
          "text": [
            "9.552%\n"
          ]
        }
      ]
    },
    {
      "cell_type": "markdown",
      "metadata": {
        "id": "t3IJxMfe-HhK"
      },
      "source": [
        "14. Разделим рецепты на группы по следующему правилу. Назовем рецепты короткими, если их продолжительность составляет менее 10 минут; стандартными, если их продолжительность составляет более 10, но менее 20 минут; и длинными, если их продолжительность составляет не менее 20 минут. Создайте трехмерный массив, где нулевая ось отвечает за номер группы (короткий, стандартный или длинный рецепт), первая ось - за сам рецепт и вторая ось - за характеристики рецепта. Выберите максимальное количество рецептов из каждой группы таким образом, чтобы было возможно сформировать трехмерный массив. Выведите форму полученного массива."
      ]
    },
    {
      "cell_type": "code",
      "source": [],
      "metadata": {
        "id": "nb_1sQ7zrzpp"
      },
      "execution_count": null,
      "outputs": []
    }
  ],
  "metadata": {
    "kernelspec": {
      "display_name": "Python 3",
      "language": "python",
      "name": "python3"
    },
    "language_info": {
      "codemirror_mode": {
        "name": "ipython",
        "version": 3
      },
      "file_extension": ".py",
      "mimetype": "text/x-python",
      "name": "python",
      "nbconvert_exporter": "python",
      "pygments_lexer": "ipython3",
      "version": "3.7.6"
    },
    "colab": {
      "provenance": [],
      "include_colab_link": true
    }
  },
  "nbformat": 4,
  "nbformat_minor": 0
}