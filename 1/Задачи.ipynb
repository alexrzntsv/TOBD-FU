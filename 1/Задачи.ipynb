{
  "nbformat": 4,
  "nbformat_minor": 0,
  "metadata": {
    "colab": {
      "provenance": [],
      "include_colab_link": true
    },
    "kernelspec": {
      "name": "python3",
      "display_name": "Python 3"
    },
    "language_info": {
      "name": "python"
    }
  },
  "cells": [
    {
      "cell_type": "markdown",
      "metadata": {
        "id": "view-in-github",
        "colab_type": "text"
      },
      "source": [
        "<a href=\"https://colab.research.google.com/github/alexrzntsv/TOBD-FU/blob/main/1/%D0%97%D0%B0%D0%B4%D0%B0%D1%87%D0%B8.ipynb\" target=\"_parent\"><img src=\"https://colab.research.google.com/assets/colab-badge.svg\" alt=\"Open In Colab\"/></a>"
      ]
    },
    {
      "cell_type": "markdown",
      "source": [
        "1. Создать в numpy матрицу 11 на 7 вида: [[1, 2, 3, ..., 7], [11, 12, 13, ..., 17], [21, 22, 23, ..., 27], ..., [101, 102, 103, ..., 107]]"
      ],
      "metadata": {
        "id": "vXXK68tBIBsu"
      }
    },
    {
      "cell_type": "code",
      "source": [
        "import numpy as np"
      ],
      "metadata": {
        "id": "54JBhY2V-ikI"
      },
      "execution_count": null,
      "outputs": []
    },
    {
      "cell_type": "code",
      "source": [
        "data = np.linspace(1, 107, 107, dtype='int')\n",
        "data[(data % 10 > 0) & (data % 10 < 8)].reshape(11, 7)"
      ],
      "metadata": {
        "id": "0sFwObZM-p6u",
        "outputId": "ba3a41ee-4d9a-43a0-edeb-9aa1c11402c0",
        "colab": {
          "base_uri": "https://localhost:8080/"
        }
      },
      "execution_count": null,
      "outputs": [
        {
          "output_type": "execute_result",
          "data": {
            "text/plain": [
              "array([[  1,   2,   3,   4,   5,   6,   7],\n",
              "       [ 11,  12,  13,  14,  15,  16,  17],\n",
              "       [ 21,  22,  23,  24,  25,  26,  27],\n",
              "       [ 31,  32,  33,  34,  35,  36,  37],\n",
              "       [ 41,  42,  43,  44,  45,  46,  47],\n",
              "       [ 51,  52,  53,  54,  55,  56,  57],\n",
              "       [ 61,  62,  63,  64,  65,  66,  67],\n",
              "       [ 71,  72,  73,  74,  75,  76,  77],\n",
              "       [ 81,  82,  83,  84,  85,  86,  87],\n",
              "       [ 91,  92,  93,  94,  95,  96,  97],\n",
              "       [101, 102, 103, 104, 105, 106, 107]])"
            ]
          },
          "metadata": {},
          "execution_count": 2
        }
      ]
    },
    {
      "cell_type": "markdown",
      "source": [
        "2. Средствами numpy рассчитать произведения четных чисел от 2 до 20 на ближайшие к ним бОльшие нечетные числа."
      ],
      "metadata": {
        "id": "TCiyGJFeII-w"
      }
    },
    {
      "cell_type": "code",
      "source": [
        "np.arange(2, 21, 2) * np.arange(3, 22, 2) "
      ],
      "metadata": {
        "id": "_gV3bDQ5Apfv",
        "outputId": "c7692f3d-ba28-46d5-d0b7-b86138d41fce",
        "colab": {
          "base_uri": "https://localhost:8080/"
        }
      },
      "execution_count": null,
      "outputs": [
        {
          "output_type": "execute_result",
          "data": {
            "text/plain": [
              "array([  6,  20,  42,  72, 110, 156, 210, 272, 342, 420])"
            ]
          },
          "metadata": {},
          "execution_count": 3
        }
      ]
    },
    {
      "cell_type": "markdown",
      "source": [
        "3. Создать две матрицы 30 на 3 из случайных целых чисел из диапазона от 0 до 10 и найти все значения первой матрицы, которые больше соответсвующих (по расположению) значений второй матрицы. Подсчитать сумму этих значений."
      ],
      "metadata": {
        "id": "Da0PFZ6xIQ0J"
      }
    },
    {
      "cell_type": "code",
      "source": [
        "np.random.seed(422)\n",
        "arr_1 = np.random.randint(0, 10, (30, 3))\n",
        "arr_2 = np.random.randint(0, 10, (30, 3))\n",
        "mask = arr_1 > arr_2\n",
        "arr_1[mask].sum()"
      ],
      "metadata": {
        "id": "GARPaYebBlpO",
        "outputId": "dabbe542-d0ad-42a7-a093-80ea90e1b3fd",
        "colab": {
          "base_uri": "https://localhost:8080/"
        }
      },
      "execution_count": null,
      "outputs": [
        {
          "output_type": "execute_result",
          "data": {
            "text/plain": [
              "349"
            ]
          },
          "metadata": {},
          "execution_count": 4
        }
      ]
    },
    {
      "cell_type": "markdown",
      "source": [
        "4. Написать фукнцию, которая для целых значений n и m будет возвращать матрицу размера n на m, заполненую текстурой размера 2 на 2 состоящей из следующий значений:\n",
        "\n",
        "```\n",
        "0 1\n",
        "\n",
        "2 3\n",
        "\n",
        "```\n",
        "\n",
        "Пример для n=5 и m = 4:\n",
        "\n",
        "```\n",
        "0 1 0 1 0\n",
        "\n",
        "2 3 2 3 2\n",
        "\n",
        "0 1 0 1 0\n",
        "\n",
        "2 3 2 3 2\n",
        "```"
      ],
      "metadata": {
        "id": "An-oecFIIZjR"
      }
    },
    {
      "cell_type": "code",
      "source": [
        "def f(n, m):\n",
        "  x = np.array([[0,1],[2,3]])\n",
        "  return np.tile(x, (m, n))[:m, :n]\n",
        "f(5, 4)"
      ],
      "metadata": {
        "id": "4KZZK_gaC3Yv",
        "outputId": "767eab55-5d16-4860-f0d8-2de46fe2759b",
        "colab": {
          "base_uri": "https://localhost:8080/"
        }
      },
      "execution_count": null,
      "outputs": [
        {
          "output_type": "execute_result",
          "data": {
            "text/plain": [
              "array([[0, 1, 0, 1, 0],\n",
              "       [2, 3, 2, 3, 2],\n",
              "       [0, 1, 0, 1, 0],\n",
              "       [2, 3, 2, 3, 2]])"
            ]
          },
          "metadata": {},
          "execution_count": 5
        }
      ]
    },
    {
      "cell_type": "markdown",
      "source": [
        "5. При помощи прихотливого индексирования для двухмерного массива размерности (20, 20), состоящего из случайных целых чисел в пределах от 0 до 10 получить массив элементов находящихся на диагонали, проходящей над основной диагональю."
      ],
      "metadata": {
        "id": "9Q7KhJeWIhnY"
      }
    },
    {
      "cell_type": "code",
      "source": [
        "np.random.seed(422)\n",
        "arr = np.random.randint(0, 10, (20, 20))\n",
        "print('Сама матрица: \\n', arr)\n",
        "row_indices = np.arange(0, 19, 1)\n",
        "col_indices = row_indices + 1\n",
        "print('результат:', arr[row_indices, col_indices])"
      ],
      "metadata": {
        "id": "6EEWxyq1HxKp",
        "outputId": "113de4df-ea41-427d-cbd3-a6d8a789e936",
        "colab": {
          "base_uri": "https://localhost:8080/"
        }
      },
      "execution_count": null,
      "outputs": [
        {
          "output_type": "stream",
          "name": "stdout",
          "text": [
            "Сама матрица: \n",
            " [[7 8 8 4 7 5 9 4 1 7 9 6 4 2 7 7 2 9 7 8]\n",
            " [3 8 2 8 6 6 8 6 4 5 1 3 6 2 8 9 2 8 9 1]\n",
            " [7 4 0 1 8 1 4 9 4 0 8 3 2 5 8 3 6 8 8 6]\n",
            " [8 8 1 8 9 3 8 3 2 1 9 4 9 1 2 5 6 6 5 2]\n",
            " [2 9 9 0 9 5 3 6 6 1 8 4 1 7 0 4 8 1 7 2]\n",
            " [4 3 3 4 6 6 4 5 2 5 1 1 6 2 4 6 2 9 5 3]\n",
            " [8 6 5 9 1 8 5 3 5 4 7 8 3 6 0 3 1 0 3 8]\n",
            " [0 7 3 4 0 6 2 6 4 0 9 3 9 8 2 4 1 9 4 5]\n",
            " [4 4 8 6 7 1 5 8 3 4 3 6 1 0 6 8 6 9 2 6]\n",
            " [6 8 5 0 8 5 0 6 8 9 1 4 1 0 8 4 7 8 3 6]\n",
            " [9 2 3 0 8 9 7 9 0 6 7 4 4 5 2 4 2 9 4 9]\n",
            " [0 8 6 0 8 4 6 5 3 3 9 2 3 4 8 9 7 8 4 6]\n",
            " [3 5 0 8 0 7 2 9 1 6 4 1 8 3 1 6 1 5 0 7]\n",
            " [2 3 4 2 6 1 3 4 6 8 4 5 6 5 2 3 7 7 3 2]\n",
            " [0 1 8 9 8 5 5 1 3 4 8 0 3 7 9 4 8 5 5 4]\n",
            " [4 4 1 5 9 2 6 1 1 0 8 8 8 9 4 9 2 0 3 8]\n",
            " [6 6 9 1 8 3 0 5 8 8 6 9 5 2 3 3 5 5 4 4]\n",
            " [7 4 1 7 9 2 0 3 2 6 8 4 8 3 8 9 1 7 0 9]\n",
            " [6 9 2 3 1 4 4 6 0 1 3 5 5 2 1 5 0 1 1 7]\n",
            " [9 0 5 1 7 5 2 8 8 7 9 1 1 0 5 7 1 0 3 9]]\n",
            "результат: [8 2 1 9 5 4 3 4 4 1 4 3 3 2 4 2 5 0 7]\n"
          ]
        }
      ]
    },
    {
      "cell_type": "markdown",
      "source": [
        "6. Имеется массив из 10 названий городов. При помощи прихотливой индексации сгенерировать последовательность из 100 элементов представляющих случайный выбор из названий городов."
      ],
      "metadata": {
        "id": "KQXVWIgHIz1Y"
      }
    },
    {
      "cell_type": "code",
      "source": [
        "arr = np.array(['Москва', \"Санкт-Петербург\", \"Екатеринбург\", \"Новосибирск\", \"Самара\", \"Калининград\", \"Казань\", \"Нижний Новгород\", \"Челябинск\", \"Уфа\"])\n",
        "arr[np.random.randint(0, arr.shape[0], 100)]"
      ],
      "metadata": {
        "id": "OvWUN6z9K9oT",
        "outputId": "b356d303-84c4-4876-889e-6466267e9059",
        "colab": {
          "base_uri": "https://localhost:8080/"
        }
      },
      "execution_count": null,
      "outputs": [
        {
          "output_type": "execute_result",
          "data": {
            "text/plain": [
              "array(['Самара', 'Нижний Новгород', 'Казань', 'Новосибирск', 'Москва',\n",
              "       'Нижний Новгород', 'Уфа', 'Санкт-Петербург', 'Калининград',\n",
              "       'Новосибирск', 'Челябинск', 'Новосибирск', 'Уфа', 'Уфа', 'Уфа',\n",
              "       'Уфа', 'Казань', 'Москва', 'Новосибирск', 'Уфа', 'Москва',\n",
              "       'Екатеринбург', 'Уфа', 'Новосибирск', 'Челябинск', 'Челябинск',\n",
              "       'Новосибирск', 'Екатеринбург', 'Санкт-Петербург', 'Казань',\n",
              "       'Челябинск', 'Новосибирск', 'Казань', 'Нижний Новгород', 'Уфа',\n",
              "       'Казань', 'Новосибирск', 'Санкт-Петербург', 'Калининград',\n",
              "       'Нижний Новгород', 'Калининград', 'Челябинск', 'Санкт-Петербург',\n",
              "       'Казань', 'Челябинск', 'Калининград', 'Калининград', 'Казань',\n",
              "       'Калининград', 'Екатеринбург', 'Самара', 'Самара', 'Казань',\n",
              "       'Новосибирск', 'Самара', 'Новосибирск', 'Москва', 'Екатеринбург',\n",
              "       'Санкт-Петербург', 'Москва', 'Уфа', 'Челябинск', 'Уфа',\n",
              "       'Калининград', 'Нижний Новгород', 'Москва', 'Калининград',\n",
              "       'Москва', 'Екатеринбург', 'Челябинск', 'Новосибирск', 'Самара',\n",
              "       'Самара', 'Уфа', 'Нижний Новгород', 'Казань', 'Уфа',\n",
              "       'Нижний Новгород', 'Санкт-Петербург', 'Калининград', 'Самара',\n",
              "       'Нижний Новгород', 'Челябинск', 'Самара', 'Самара', 'Уфа',\n",
              "       'Челябинск', 'Челябинск', 'Казань', 'Калининград', 'Казань', 'Уфа',\n",
              "       'Казань', 'Челябинск', 'Челябинск', 'Новосибирск', 'Уфа',\n",
              "       'Новосибирск', 'Казань', 'Калининград'], dtype='<U15')"
            ]
          },
          "metadata": {},
          "execution_count": 14
        }
      ]
    },
    {
      "cell_type": "markdown",
      "source": [
        "7. Используя как можно меньше операций в исходном массиве \"шахматная доска\" np.zeros((8,8)) добиться расставки кодов \"шахматных фигур\".\n",
        "\n",
        "Ожидаемый результат:\n",
        "\n",
        "```\n",
        "[[-4., -3., -2., -6., -5., -2., -3., -4.],\n",
        " [-1., -1., -1., -1., -1., -1., -1., -1.],\n",
        " [0., 0., 0., 0., 0., 0., 0., 0.],\n",
        " [0., 0., 0., 0., 0., 0., 0., 0.],\n",
        " [0., 0., 0., 0., 0., 0., 0., 0.],\n",
        " [0., 0., 0., 0., 0., 0., 0., 0.],\n",
        " [1., 1., 1., 1., 1., 1., 1., 1.],\n",
        " [4., 3., 2., 6., 5., 2., 3., 4.]]\n",
        "\n",
        "```"
      ],
      "metadata": {
        "id": "OlFjDC2WJATi"
      }
    },
    {
      "cell_type": "code",
      "source": [
        "arr = np.zeros((8,8))\n",
        "arr[1] = arr[6] = [1.]*8\n",
        "arr[0] = arr[7] = [4., 3., 2., 6., 5., 2., 3., 4.]\n",
        "arr[:2] *= -1\n",
        "arr"
      ],
      "metadata": {
        "id": "lDkw4FuPLWwb",
        "outputId": "a180b438-0bfd-45de-af27-cb4f2eff4fe1",
        "colab": {
          "base_uri": "https://localhost:8080/"
        }
      },
      "execution_count": 7,
      "outputs": [
        {
          "output_type": "execute_result",
          "data": {
            "text/plain": [
              "array([[-4., -3., -2., -6., -5., -2., -3., -4.],\n",
              "       [-1., -1., -1., -1., -1., -1., -1., -1.],\n",
              "       [ 0.,  0.,  0.,  0.,  0.,  0.,  0.,  0.],\n",
              "       [ 0.,  0.,  0.,  0.,  0.,  0.,  0.,  0.],\n",
              "       [ 0.,  0.,  0.,  0.,  0.,  0.,  0.,  0.],\n",
              "       [ 0.,  0.,  0.,  0.,  0.,  0.,  0.,  0.],\n",
              "       [ 1.,  1.,  1.,  1.,  1.,  1.,  1.,  1.],\n",
              "       [ 4.,  3.,  2.,  6.,  5.,  2.,  3.,  4.]])"
            ]
          },
          "metadata": {},
          "execution_count": 7
        }
      ]
    },
    {
      "cell_type": "markdown",
      "source": [
        "8. Создать двухмерный массив 20 на 3, содержащийслучайные целые числа от 0 до 100. Интерпретируя массив как 20 векторов из 3х компонент, отсортировать массив по длине векторов."
      ],
      "metadata": {
        "id": "EQWjdSWGP1b4"
      }
    },
    {
      "cell_type": "code",
      "source": [
        "np.random.seed(422)\n",
        "arr = np.random.randint(0, 100, (20, 3))\n",
        "mask = np.linalg.norm(arr, axis=1)\n",
        "arr[np.argsort(mask)]"
      ],
      "metadata": {
        "id": "Uc6N_tdbOa6R",
        "outputId": "022a11bc-d899-4bfb-d346-208bc52a14fd",
        "colab": {
          "base_uri": "https://localhost:8080/"
        }
      },
      "execution_count": null,
      "outputs": [
        {
          "output_type": "execute_result",
          "data": {
            "text/plain": [
              "array([[ 1, 42, 14],\n",
              "       [ 1,  7, 45],\n",
              "       [59,  2,  9],\n",
              "       [25, 62,  2],\n",
              "       [68, 31,  5],\n",
              "       [41, 54, 34],\n",
              "       [52, 52, 31],\n",
              "       [47, 70, 22],\n",
              "       [ 0,  1, 88],\n",
              "       [49, 45, 67],\n",
              "       [24, 95, 31],\n",
              "       [22, 50, 88],\n",
              "       [81, 71,  4],\n",
              "       [93, 40, 41],\n",
              "       [93, 62, 39],\n",
              "       [27, 83, 82],\n",
              "       [92, 56, 60],\n",
              "       [87, 62, 78],\n",
              "       [69, 90, 84],\n",
              "       [74, 90, 87]])"
            ]
          },
          "metadata": {},
          "execution_count": 19
        }
      ]
    },
    {
      "cell_type": "markdown",
      "source": [
        "9. Создать в numpy матрицу 11 на 7 вида: [[1, 2, 3, ..., 7], [11, 12, 13, ..., 17], [21, 22, 23, ..., 27], ..., [101, 102, 103, ..., 107]]. При решении задачи применить технику распространения."
      ],
      "metadata": {
        "id": "uRv_VnLzUEPY"
      }
    },
    {
      "cell_type": "code",
      "source": [
        "np.full((11, 7), np.arange(1, 8)) + np.arange(0,101,10).reshape(-1, 1)"
      ],
      "metadata": {
        "id": "P4xKTaOYUykK",
        "outputId": "46db41c5-28de-4fa1-d5a0-ca39a5bbe7d8",
        "colab": {
          "base_uri": "https://localhost:8080/"
        }
      },
      "execution_count": null,
      "outputs": [
        {
          "output_type": "execute_result",
          "data": {
            "text/plain": [
              "array([[  1,   2,   3,   4,   5,   6,   7],\n",
              "       [ 11,  12,  13,  14,  15,  16,  17],\n",
              "       [ 21,  22,  23,  24,  25,  26,  27],\n",
              "       [ 31,  32,  33,  34,  35,  36,  37],\n",
              "       [ 41,  42,  43,  44,  45,  46,  47],\n",
              "       [ 51,  52,  53,  54,  55,  56,  57],\n",
              "       [ 61,  62,  63,  64,  65,  66,  67],\n",
              "       [ 71,  72,  73,  74,  75,  76,  77],\n",
              "       [ 81,  82,  83,  84,  85,  86,  87],\n",
              "       [ 91,  92,  93,  94,  95,  96,  97],\n",
              "       [101, 102, 103, 104, 105, 106, 107]])"
            ]
          },
          "metadata": {},
          "execution_count": 57
        }
      ]
    },
    {
      "cell_type": "markdown",
      "source": [
        "10. Создать массив из 20 случайных целых чисел от 0 до 100. Получить второе сверху значение в массиве. Опредлить индекс этого значения."
      ],
      "metadata": {
        "id": "9QdoGMzrgIVM"
      }
    },
    {
      "cell_type": "code",
      "source": [
        "arr = np.random.randint(0, 100, 20)\n",
        "print(arr)\n",
        "np.argsort(arr)[arr.shape[0]-2]"
      ],
      "metadata": {
        "id": "h2CLdFgZdEd_",
        "outputId": "0f4783a1-be39-4dfd-a737-a5b7513d3a44",
        "colab": {
          "base_uri": "https://localhost:8080/"
        }
      },
      "execution_count": null,
      "outputs": [
        {
          "output_type": "stream",
          "name": "stdout",
          "text": [
            "[94  4 87 83 91 83 33 13 32 62 51 16 55 99 36 90 48  6 45 82]\n"
          ]
        },
        {
          "output_type": "execute_result",
          "data": {
            "text/plain": [
              "0"
            ]
          },
          "metadata": {},
          "execution_count": 63
        }
      ]
    }
  ]
}