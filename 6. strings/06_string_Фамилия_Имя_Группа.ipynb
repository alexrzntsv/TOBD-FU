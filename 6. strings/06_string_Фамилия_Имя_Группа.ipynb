{
  "cells": [
    {
      "cell_type": "markdown",
      "metadata": {
        "id": "view-in-github",
        "colab_type": "text"
      },
      "source": [
        "<a href=\"https://colab.research.google.com/github/alexrzntsv/TOBD-FU/blob/main/6.%20strings/06_string_%D0%A4%D0%B0%D0%BC%D0%B8%D0%BB%D0%B8%D1%8F_%D0%98%D0%BC%D1%8F_%D0%93%D1%80%D1%83%D0%BF%D0%BF%D0%B0.ipynb\" target=\"_parent\"><img src=\"https://colab.research.google.com/assets/colab-badge.svg\" alt=\"Open In Colab\"/></a>"
      ]
    },
    {
      "cell_type": "markdown",
      "metadata": {
        "id": "MTMtgbADhRA3"
      },
      "source": [
        "# Работа со строковыми значениями"
      ]
    },
    {
      "cell_type": "markdown",
      "metadata": {
        "id": "Jd6VTr0RhRA7"
      },
      "source": [
        "__Автор задач: Блохин Н.В. (NVBlokhin@fa.ru)__\n",
        "\n",
        "Материалы:\n",
        "* Макрушин С.В. Лекция \"Работа со строковыми значениям\"\n",
        "* https://pyformat.info/\n",
        "* https://docs.python.org/3/library/re.html\n",
        "    * https://docs.python.org/3/library/re.html#flags\n",
        "    * https://docs.python.org/3/library/re.html#functions\n",
        "* https://pythonru.com/primery/primery-primeneniya-regulyarnyh-vyrazheniy-v-python\n",
        "* https://kanoki.org/2019/11/12/how-to-use-regex-in-pandas/\n",
        "* https://realpython.com/nltk-nlp-python/"
      ]
    },
    {
      "cell_type": "markdown",
      "metadata": {
        "id": "aDMPfzlmhRA9"
      },
      "source": [
        "## Лабораторная работа\n"
      ]
    },
    {
      "cell_type": "markdown",
      "metadata": {
        "id": "RcVtQbslhRBF"
      },
      "source": [
        "### Форматирование строк"
      ]
    },
    {
      "cell_type": "markdown",
      "metadata": {
        "id": "G35ak_GyhRBF"
      },
      "source": [
        "1\\. Загрузите данные из файла `recipes_sample.csv` (__ЛР2__) в виде `pd.DataFrame` `recipes` При помощи форматирования строк выведите информацию об id рецепта и времени выполнения 5 случайных рецептов в виде таблицы следующего вида:\n",
        "\n",
        "    \n",
        "    |      id      |  minutes  |\n",
        "    |--------------------------|\n",
        "    |    61178     |    65     |\n",
        "    |    202352    |    80     |\n",
        "    |    364322    |    150    |\n",
        "    |    26177     |    20     |\n",
        "    |    224785    |    35     |\n",
        "    \n",
        "Обратите внимание, что ширина столбцов заранее неизвестна и должна рассчитываться динамически, в зависимости от тех данных, которые были выбраны. "
      ]
    },
    {
      "cell_type": "code",
      "source": [
        "import pandas as pd"
      ],
      "metadata": {
        "id": "63WF00XtiUAo"
      },
      "execution_count": 2,
      "outputs": []
    },
    {
      "cell_type": "code",
      "source": [
        "df = pd.read_csv('recipes_sample.csv')\n",
        "df_5 = df.sample(5)"
      ],
      "metadata": {
        "id": "PwE97A46ioDb"
      },
      "execution_count": 40,
      "outputs": []
    },
    {
      "cell_type": "code",
      "source": [
        "max_len_id = max(df_5['id'].astype(str).apply(len))\n",
        "max_len_minutes = max(df_5['minutes'].astype(str).apply(len))\n",
        "\n",
        "id = 'id'\n",
        "minutes = 'minutes'\n",
        "\n",
        "print(f'|{id:^{max_len_id + 8}}|{minutes:^{max_len_minutes + 8}}|')\n",
        "print('|' + '-'*(8 + 9 + len(id) + len(minutes))+ '|')\n",
        "\n",
        "for index, row in df_5.iterrows():\n",
        "  id = row['id']\n",
        "  minutes = row['minutes']\n",
        "  print(f'|{id:^{max_len_id + 8}}|{minutes:^{max_len_minutes + 8}}|')"
      ],
      "metadata": {
        "colab": {
          "base_uri": "https://localhost:8080/"
        },
        "id": "eLOV2i8Njf5c",
        "outputId": "793069bb-c66b-44fb-ee9b-273c1759ff56"
      },
      "execution_count": 41,
      "outputs": [
        {
          "output_type": "stream",
          "name": "stdout",
          "text": [
            "|      id      |  minutes  |\n",
            "|--------------------------|\n",
            "|    265781    |    75     |\n",
            "|    123549    |    330    |\n",
            "|    237054    |    40     |\n",
            "|    39648     |    70     |\n",
            "|    34392     |    30     |\n"
          ]
        }
      ]
    },
    {
      "cell_type": "markdown",
      "metadata": {
        "id": "IyA2SnFvhRBG"
      },
      "source": [
        "2\\. Напишите функцию `show_info`, которая по данным о рецепте создает строку (в смысле объекта python) с описанием следующего вида:\n",
        "\n",
        "```\n",
        "\"Название Из Нескольких Слов\"\n",
        "\n",
        "1. Шаг 1\n",
        "2. Шаг 2\n",
        "----------\n",
        "Автор: contributor_id\n",
        "Среднее время приготовления: minutes минут\n",
        "```\n",
        "\n",
        "    \n",
        "Данные для создания строки получите из файлов `recipes_sample.csv` (__ЛР2__) и `steps_sample.xml` (__ЛР3__). \n",
        "Вызовите данную функцию для рецепта с id `170895` и выведите (через `print`) полученную строку на экран."
      ]
    },
    {
      "cell_type": "code",
      "source": [
        "df_recipes = pd.read_csv('recipes_sample.csv')"
      ],
      "metadata": {
        "id": "A_qbmWgBsPkG"
      },
      "execution_count": 34,
      "outputs": []
    },
    {
      "cell_type": "code",
      "source": [
        "from bs4 import BeautifulSoup"
      ],
      "metadata": {
        "id": "nUcwDHm0ysOj"
      },
      "execution_count": null,
      "outputs": []
    },
    {
      "cell_type": "code",
      "source": [
        "with open('steps_sample.xml') as f:\n",
        "  ab = BeautifulSoup(f, 'xml')\n",
        "\n",
        "steps_dict = {}\n",
        "\n",
        "for recipe in ab.find_all('recipe'):\n",
        "  recipe_id = int(recipe.id.text)\n",
        "  steps = [step.text for step in recipe.find_all('step')]\n",
        "  steps_dict[recipe_id] = steps"
      ],
      "metadata": {
        "id": "_OwURmU-tGSk"
      },
      "execution_count": 9,
      "outputs": []
    },
    {
      "cell_type": "code",
      "source": [
        "# сбор значений атрибутов для recipe_id = 170895\n",
        "row = df_recipes[df_recipes['id'] == 170895]\n",
        "\n",
        "name = row['name'].iloc[0]\n",
        "minutes = row['minutes'].iloc[0]\n",
        "author_id = row['contributor_id'].iloc[0]\n",
        "steps = steps_dict[170895]\n",
        "\n"
      ],
      "metadata": {
        "colab": {
          "base_uri": "https://localhost:8080/"
        },
        "id": "lI-59hsJweGy",
        "outputId": "2b8fad0b-18f5-4f42-da2e-be79c206fb81"
      },
      "execution_count": 33,
      "outputs": [
        {
          "output_type": "stream",
          "name": "stdout",
          "text": [
            "['clean the leeks and discard the dark green portions', 'cut the leeks lengthwise then into one-inch pieces', 'melt the butter in a medium skillet , med', 'heat', \"add the garlic and fry 'til fragrant\", 'add leeks and fry until the leeks are tender , about 6-minutes', 'meanwhile , peel and chunk the parsnips into one-inch pieces', \"place in a steaming basket and steam 'til they are as tender as you prefer\", 'i like them fork-tender', 'drain parsnips and add to the skillet with the leeks', 'add salt and pepper', 'gently sautee together for 5-minutes', 'at this point you can serve it , or continue on and cream it:', 'in a jar with a screw top , add the half-n-half and arrowroot', \"shake 'til blended\", 'turn heat to low under the leeks and parsnips', 'pour in the arrowroot mixture , stirring gently as you pour', 'if too thick , gradually add the water', 'let simmer for a couple of minutes', 'taste to adjust seasoning , probably an additional 1 / 2 teaspoon salt', 'serve warm']\n"
          ]
        }
      ]
    },
    {
      "cell_type": "code",
      "source": [
        "def show_info(name: str, steps: list, minutes: int, author_id: int) -> str:\n",
        "  s = ''\n",
        "  s += f'\"{name.title()}\"\\n\\n'\n",
        "\n",
        "  for index, step in enumerate(steps):\n",
        "    s += f'{index+1}. {step.capitalize()} \\n'\n",
        "  s += '-' * 10 + '\\n'\n",
        "  s += f'Автор: {author_id}\\n'\n",
        "  s += f'Среднее время приготовления: {minutes} минут\\n'\n",
        "\n",
        "\n",
        "  print(s)\n"
      ],
      "metadata": {
        "id": "cE10rNcqq2VV"
      },
      "execution_count": 50,
      "outputs": []
    },
    {
      "cell_type": "code",
      "source": [
        "show_info(name, steps, minutes, author_id)"
      ],
      "metadata": {
        "colab": {
          "base_uri": "https://localhost:8080/"
        },
        "id": "jGwsysPW51OI",
        "outputId": "3c283cf6-2a38-4f0c-8ca6-deb414a002b5"
      },
      "execution_count": 51,
      "outputs": [
        {
          "output_type": "stream",
          "name": "stdout",
          "text": [
            "\"Leeks And Parsnips  Sauteed Or Creamed\"\n",
            "\n",
            "1. Clean the leeks and discard the dark green portions \n",
            "2. Cut the leeks lengthwise then into one-inch pieces \n",
            "3. Melt the butter in a medium skillet , med \n",
            "4. Heat \n",
            "5. Add the garlic and fry 'til fragrant \n",
            "6. Add leeks and fry until the leeks are tender , about 6-minutes \n",
            "7. Meanwhile , peel and chunk the parsnips into one-inch pieces \n",
            "8. Place in a steaming basket and steam 'til they are as tender as you prefer \n",
            "9. I like them fork-tender \n",
            "10. Drain parsnips and add to the skillet with the leeks \n",
            "11. Add salt and pepper \n",
            "12. Gently sautee together for 5-minutes \n",
            "13. At this point you can serve it , or continue on and cream it: \n",
            "14. In a jar with a screw top , add the half-n-half and arrowroot \n",
            "15. Shake 'til blended \n",
            "16. Turn heat to low under the leeks and parsnips \n",
            "17. Pour in the arrowroot mixture , stirring gently as you pour \n",
            "18. If too thick , gradually add the water \n",
            "19. Let simmer for a couple of minutes \n",
            "20. Taste to adjust seasoning , probably an additional 1 / 2 teaspoon salt \n",
            "21. Serve warm \n",
            "----------\n",
            "Автор: 8377\n",
            "Среднее время приготовления: 27 минут\n",
            "\n"
          ]
        }
      ]
    },
    {
      "cell_type": "code",
      "execution_count": 52,
      "metadata": {
        "colab": {
          "base_uri": "https://localhost:8080/",
          "height": 408
        },
        "id": "Wtqp0UFehRBH",
        "outputId": "cfeba916-6413-4684-980c-5da90c3e714a"
      },
      "outputs": [
        {
          "output_type": "stream",
          "name": "stdout",
          "text": [
            "\"George S At The Cove Black Bean Soup\"\n",
            "\n",
            "1. Clean the leeks and discard the dark green portions \n",
            "2. Cut the leeks lengthwise then into one-inch pieces \n",
            "3. Melt the butter in a medium skillet , med \n",
            "----------\n",
            "Автор: 35193\n",
            "Среднее время приготовления: 90 минут\n",
            "\n"
          ]
        },
        {
          "output_type": "error",
          "ename": "AssertionError",
          "evalue": "ignored",
          "traceback": [
            "\u001b[0;31m---------------------------------------------------------------------------\u001b[0m",
            "\u001b[0;31mAssertionError\u001b[0m                            Traceback (most recent call last)",
            "\u001b[0;32m<ipython-input-52-4f774dfc1f58>\u001b[0m in \u001b[0;36m<module>\u001b[0;34m\u001b[0m\n\u001b[1;32m     10\u001b[0m         \u001b[0mauthor_id\u001b[0m\u001b[0;34m=\u001b[0m\u001b[0;36m35193\u001b[0m\u001b[0;34m,\u001b[0m\u001b[0;34m\u001b[0m\u001b[0;34m\u001b[0m\u001b[0m\n\u001b[1;32m     11\u001b[0m     )\n\u001b[0;32m---> 12\u001b[0;31m     \u001b[0;34m==\u001b[0m \u001b[0;34m'\"George S At The Cove Black Bean Soup\"\\n\\n1. Clean the leeks and discard the dark green portions\\n2. Cut the leeks lengthwise then into one-inch pieces\\n3. Melt the butter in a medium skillet , med\\n----------\\nАвтор: 35193\\nСреднее время приготовления: 90 минут\\n'\u001b[0m\u001b[0;34m\u001b[0m\u001b[0;34m\u001b[0m\u001b[0m\n\u001b[0m\u001b[1;32m     13\u001b[0m )\n",
            "\u001b[0;31mAssertionError\u001b[0m: "
          ]
        }
      ],
      "source": [
        "assert (\n",
        "    show_info(\n",
        "        name=\"george s at the cove black bean soup\",\n",
        "        steps=[\n",
        "            \"clean the leeks and discard the dark green portions\",\n",
        "            \"cut the leeks lengthwise then into one-inch pieces\",\n",
        "            \"melt the butter in a medium skillet , med\",\n",
        "        ],\n",
        "        minutes=90,\n",
        "        author_id=35193,\n",
        "    )\n",
        "    == '\"George S At The Cove Black Bean Soup\"\\n\\n1. Clean the leeks and discard the dark green portions\\n2. Cut the leeks lengthwise then into one-inch pieces\\n3. Melt the butter in a medium skillet , med\\n----------\\nАвтор: 35193\\nСреднее время приготовления: 90 минут\\n'\n",
        ")"
      ]
    },
    {
      "cell_type": "markdown",
      "metadata": {
        "id": "LQGoEkdWhRBJ"
      },
      "source": [
        "## Работа с регулярными выражениями"
      ]
    },
    {
      "cell_type": "markdown",
      "metadata": {
        "id": "GowPPbAghRBJ"
      },
      "source": [
        "3\\. Напишите регулярное выражение, которое ищет следующий паттерн в строке: число (1 цифра или более), затем пробел, затем слова: hour или hours или minute или minutes. Произведите поиск по данному регулярному выражению в каждом шаге рецепта с id 25082. Выведите на экран все непустые результаты, найденные по данному шаблону."
      ]
    },
    {
      "cell_type": "markdown",
      "metadata": {
        "id": "bZxk-fXQhRBK"
      },
      "source": [
        "4\\. Напишите регулярное выражение, которое ищет шаблон вида \"this..., but\" _в начале строки_ . Между словом \"this\" и частью \", but\" может находиться произвольное число букв, цифр, знаков подчеркивания и пробелов. Никаких других символов вместо многоточия быть не может. Пробел между запятой и словом \"but\" может присутствовать или отсутствовать.\n",
        "\n",
        "Используя строковые методы `pd.Series`, выясните, для каких рецептов данный шаблон содержится в тексте описания. Выведите на экран количество таких рецептов и 3 примера подходящих описаний (текст описания должен быть виден на экране полностью)."
      ]
    },
    {
      "cell_type": "markdown",
      "metadata": {
        "id": "XMVA8ysehRBL"
      },
      "source": [
        "5\\. В текстах шагов рецептов обыкновенные дроби имеют вид \"a / b\". Используя регулярные выражения, уберите в тексте шагов рецепта с id 72367 пробелы до и после символа дроби. Выведите на экран шаги этого рецепта после их изменения."
      ]
    },
    {
      "cell_type": "markdown",
      "metadata": {
        "id": "KPpqav9khRBM"
      },
      "source": [
        "### Сегментация текста"
      ]
    },
    {
      "cell_type": "markdown",
      "metadata": {
        "id": "5Ny6CfFzhRBN"
      },
      "source": [
        "6\\. Разбейте тексты шагов рецептов на слова при помощи пакета `nltk`. Посчитайте и выведите на экран кол-во уникальных слов среди всех рецептов. Словом называется любая последовательность алфавитных символов (для проверки можно воспользоваться `str.isalpha`). При подсчете количества уникальных слов не учитывайте регистр."
      ]
    },
    {
      "cell_type": "markdown",
      "metadata": {
        "id": "gq8aM9DfhRBN"
      },
      "source": [
        "7\\. Разбейте описания рецептов из `recipes` на предложения при помощи пакета `nltk`. Найдите 5 самых длинных описаний (по количеству _предложений_) рецептов в датасете и выведите строки фрейма, соответствующие этим рецептами, в порядке убывания длины."
      ]
    },
    {
      "cell_type": "markdown",
      "metadata": {
        "id": "s--yUqAkhRBO"
      },
      "source": [
        "8\\. Напишите функцию, которая для заданного предложения выводит информацию о частях речи слов, входящих в предложение, в следующем виде:\n",
        "```\n",
        "PRP   VBD   DT      NNS     CC   VBD      NNS        RB   \n",
        " I  omitted the raspberries and added strawberries instead\n",
        "``` \n",
        "Для определения части речи слова можно воспользоваться `nltk.pos_tag`.\n",
        "\n",
        "Проверьте работоспособность функции на названии рецепта с id 241106.\n",
        "\n",
        "Обратите внимание, что часть речи должна находиться ровно посередине над соотвествующим словом, а между самими словами должен быть ровно один пробел.\n"
      ]
    },
    {
      "cell_type": "code",
      "execution_count": null,
      "metadata": {
        "id": "f5uffEJxhRBO"
      },
      "outputs": [],
      "source": []
    }
  ],
  "metadata": {
    "kernelspec": {
      "display_name": "Python 3 (ipykernel)",
      "language": "python",
      "name": "python3"
    },
    "language_info": {
      "codemirror_mode": {
        "name": "ipython",
        "version": 3
      },
      "file_extension": ".py",
      "mimetype": "text/x-python",
      "name": "python",
      "nbconvert_exporter": "python",
      "pygments_lexer": "ipython3",
      "version": "3.9.7"
    },
    "colab": {
      "provenance": [],
      "include_colab_link": true
    }
  },
  "nbformat": 4,
  "nbformat_minor": 0
}