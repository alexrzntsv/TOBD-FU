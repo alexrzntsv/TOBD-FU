{
  "cells": [
    {
      "cell_type": "markdown",
      "metadata": {
        "id": "view-in-github",
        "colab_type": "text"
      },
      "source": [
        "<a href=\"https://colab.research.google.com/github/alexrzntsv/TOBD-FU/blob/main/6.%20strings/06_string__seminar.ipynb\" target=\"_parent\"><img src=\"https://colab.research.google.com/assets/colab-badge.svg\" alt=\"Open In Colab\"/></a>"
      ]
    },
    {
      "cell_type": "markdown",
      "metadata": {
        "id": "Q6DuOohnbI9o"
      },
      "source": [
        "# Работа со строковыми значениями"
      ]
    },
    {
      "cell_type": "markdown",
      "metadata": {
        "id": "mkQykT77bI9y"
      },
      "source": [
        "__Автор задач: Блохин Н.В. (NVBlokhin@fa.ru)__\n",
        "\n",
        "Материалы:\n",
        "* Макрушин С.В. Лекция \"Работа со строковыми значениям\"\n",
        "* https://pyformat.info/\n",
        "* https://docs.python.org/3/library/re.html\n",
        "    * https://docs.python.org/3/library/re.html#flags\n",
        "    * https://docs.python.org/3/library/re.html#functions\n",
        "* https://pythonru.com/primery/primery-primeneniya-regulyarnyh-vyrazheniy-v-python\n",
        "* https://kanoki.org/2019/11/12/how-to-use-regex-in-pandas/\n",
        "* https://realpython.com/nltk-nlp-python/"
      ]
    },
    {
      "cell_type": "markdown",
      "metadata": {
        "id": "mZH-MHsSbI90"
      },
      "source": [
        "## Задачи для совместного разбора"
      ]
    },
    {
      "cell_type": "markdown",
      "metadata": {
        "id": "oFG8UPhDbI91"
      },
      "source": [
        "1. Вывести на экран данные из словаря `obj` построчно в виде `k = v`, задав формат таким образом, чтобы знак равенства оказался на одной и той же позиции во всех строках. Строковые литералы обернуть в кавычки."
      ]
    },
    {
      "cell_type": "code",
      "execution_count": null,
      "metadata": {
        "id": "cArMA6nibI92"
      },
      "outputs": [],
      "source": [
        "obj = {\n",
        "    \"home_page\": \"https://github.com/pypa/sampleproject\",\n",
        "    \"keywords\": \"sample setuptools development\",\n",
        "    \"license\": \"MIT\",\n",
        "}"
      ]
    },
    {
      "cell_type": "code",
      "source": [
        "max_len = max(map(len, obj.keys()))\n",
        "\n",
        "for k, v in obj.items():\n",
        "  print(f'{k:{max_len}} = {v}')"
      ],
      "metadata": {
        "colab": {
          "base_uri": "https://localhost:8080/"
        },
        "id": "W7axwVD1W3ro",
        "outputId": "c74a5249-f46e-4d78-e180-3bb228c738fd"
      },
      "execution_count": null,
      "outputs": [
        {
          "output_type": "stream",
          "name": "stdout",
          "text": [
            "home_page = https://github.com/pypa/sampleproject\n",
            "keywords  = sample setuptools development\n",
            "license   = MIT\n"
          ]
        }
      ]
    },
    {
      "cell_type": "markdown",
      "metadata": {
        "id": "bb00lCjTbI95"
      },
      "source": [
        "2. Написать регулярное выражение,которое позволит найти номера групп студентов."
      ]
    },
    {
      "cell_type": "code",
      "source": [
        "s = '\"Евгения гр.ПМ19-1\", \"Илья пм 20-4\", \"Анна 20-3\"'"
      ],
      "metadata": {
        "id": "sH2hVhjXYE4O"
      },
      "execution_count": 12,
      "outputs": []
    },
    {
      "cell_type": "code",
      "source": [
        "import re\n",
        "\n",
        "groups = re.findall('\\d{2}-\\d', s)\n",
        "groups"
      ],
      "metadata": {
        "colab": {
          "base_uri": "https://localhost:8080/"
        },
        "id": "w4t0fPEXZFif",
        "outputId": "ca59d674-34c2-482a-b0e7-60192cff32b3"
      },
      "execution_count": 13,
      "outputs": [
        {
          "output_type": "execute_result",
          "data": {
            "text/plain": [
              "['19-1', '20-4', '20-3']"
            ]
          },
          "metadata": {},
          "execution_count": 13
        }
      ]
    },
    {
      "cell_type": "markdown",
      "metadata": {
        "id": "YFO0O5p9bI98"
      },
      "source": [
        "3. Разбейте текст формулировки задачи 2 на слова."
      ]
    },
    {
      "cell_type": "code",
      "source": [
        "s = 'Написать регулярное выражение,которое позволит найти номера групп студентов.'"
      ],
      "metadata": {
        "id": "MwNqFosGZtEw"
      },
      "execution_count": 15,
      "outputs": []
    },
    {
      "cell_type": "code",
      "source": [
        "!pip install razdel"
      ],
      "metadata": {
        "colab": {
          "base_uri": "https://localhost:8080/"
        },
        "id": "znAKSELcaSRd",
        "outputId": "b7e79b8a-3703-41bb-8e1e-6e427748d6e1"
      },
      "execution_count": 16,
      "outputs": [
        {
          "output_type": "stream",
          "name": "stdout",
          "text": [
            "Looking in indexes: https://pypi.org/simple, https://us-python.pkg.dev/colab-wheels/public/simple/\n",
            "Collecting razdel\n",
            "  Downloading razdel-0.5.0-py3-none-any.whl (21 kB)\n",
            "Installing collected packages: razdel\n",
            "Successfully installed razdel-0.5.0\n"
          ]
        }
      ]
    },
    {
      "cell_type": "code",
      "source": [
        "from razdel import tokenize\n",
        "\n",
        "tokens = list(tokenize(s))\n",
        "[_.text for _ in tokens]"
      ],
      "metadata": {
        "colab": {
          "base_uri": "https://localhost:8080/"
        },
        "id": "S1ZnF0dyaVP1",
        "outputId": "d76d9273-0839-4020-f0cb-7bf3a2365a44"
      },
      "execution_count": 20,
      "outputs": [
        {
          "output_type": "execute_result",
          "data": {
            "text/plain": [
              "['Написать',\n",
              " 'регулярное',\n",
              " 'выражение',\n",
              " ',',\n",
              " 'которое',\n",
              " 'позволит',\n",
              " 'найти',\n",
              " 'номера',\n",
              " 'групп',\n",
              " 'студентов',\n",
              " '.']"
            ]
          },
          "metadata": {},
          "execution_count": 20
        }
      ]
    },
    {
      "cell_type": "markdown",
      "source": [
        "4. Найдите в тексте все последовательности 'вол', 'воз', 'вон': \"вол, воз, вон. \n",
        "вол воБ во8 воз вок вог во4 воХ во! воь вон\" (От Калажоков З.Х.)"
      ],
      "metadata": {
        "id": "iEWDmFyeS_JG"
      }
    },
    {
      "cell_type": "code",
      "source": [
        "s = \"вол, воз, вон. вол воБ во8 воз вок вог во4 воХ во! воь вон\"\n",
        "'''\n",
        "result = []\n",
        "substrings = ['вол', 'воз', 'вон']\n",
        "\n",
        "for i in substrings:\n",
        "  result.extend(re.findall(i, s))\n",
        "'''\n",
        "\n",
        "result = re.findall(\"['в']['о']['л','з','н']\", s)\n",
        "result"
      ],
      "metadata": {
        "colab": {
          "base_uri": "https://localhost:8080/"
        },
        "id": "qMMABwJPat2b",
        "outputId": "095ac054-4c3b-43aa-e37c-77aa9f4fd1e3"
      },
      "execution_count": 34,
      "outputs": [
        {
          "output_type": "execute_result",
          "data": {
            "text/plain": [
              "['вол', 'воз', 'вон', 'вол', 'воз', 'вон']"
            ]
          },
          "metadata": {},
          "execution_count": 34
        }
      ]
    },
    {
      "cell_type": "markdown",
      "source": [
        "5. Напишите регулярное выражение, которое найдёт все кабинеты с трёхзначным номером: 100 - 999 в строке \n",
        "\n",
        "'147 кабинет 843 кабинет 010 кабинет 514 кабинет 99 кабинет 246 кабинет 572 кабинет'. \n",
        "\n",
        "Шаблон кабинета: ddd кабинет, где d - арабская цифра. (От Калажоков З.Х.)"
      ],
      "metadata": {
        "id": "qP1cV6uTBK9S"
      }
    },
    {
      "cell_type": "code",
      "source": [
        "s = '147 кабинет 843 кабинет 010 кабинет 514 кабинет 99 кабинет 246 кабинет 572 кабинет'\n",
        "\n",
        "re.findall(r'[1-9][0-9]{2}', s)"
      ],
      "metadata": {
        "colab": {
          "base_uri": "https://localhost:8080/"
        },
        "id": "q4mSjDLCdLzp",
        "outputId": "a08fd768-fa53-4c60-9697-040489b173f0"
      },
      "execution_count": 32,
      "outputs": [
        {
          "output_type": "execute_result",
          "data": {
            "text/plain": [
              "['147', '843', '514', '246', '572']"
            ]
          },
          "metadata": {},
          "execution_count": 32
        }
      ]
    }
  ],
  "metadata": {
    "kernelspec": {
      "display_name": "Python 3 (ipykernel)",
      "language": "python",
      "name": "python3"
    },
    "language_info": {
      "codemirror_mode": {
        "name": "ipython",
        "version": 3
      },
      "file_extension": ".py",
      "mimetype": "text/x-python",
      "name": "python",
      "nbconvert_exporter": "python",
      "pygments_lexer": "ipython3",
      "version": "3.9.7"
    },
    "colab": {
      "provenance": [],
      "include_colab_link": true
    }
  },
  "nbformat": 4,
  "nbformat_minor": 0
}